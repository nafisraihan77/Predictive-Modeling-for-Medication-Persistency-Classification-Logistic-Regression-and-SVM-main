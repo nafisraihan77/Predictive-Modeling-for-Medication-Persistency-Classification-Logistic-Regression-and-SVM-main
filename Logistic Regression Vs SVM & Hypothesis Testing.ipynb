{
 "cells": [
  {
   "cell_type": "markdown",
   "id": "b261ddb7",
   "metadata": {},
   "source": [
    "# IMPORTING LIBRARIES"
   ]
  },
  {
   "cell_type": "code",
   "execution_count": 5,
   "id": "e583b06a",
   "metadata": {},
   "outputs": [],
   "source": [
    "import pandas as pd\n",
    "import numpy as np\n",
    "import io\n",
    "import matplotlib.pyplot as plt"
   ]
  },
  {
   "cell_type": "markdown",
   "id": "b58a5b3c",
   "metadata": {},
   "source": [
    "# LOADING AND READING THE DATASET"
   ]
  },
  {
   "cell_type": "code",
   "execution_count": 6,
   "id": "eca8a0cd",
   "metadata": {},
   "outputs": [
    {
     "data": {
      "text/html": [
       "<div>\n",
       "<style scoped>\n",
       "    .dataframe tbody tr th:only-of-type {\n",
       "        vertical-align: middle;\n",
       "    }\n",
       "\n",
       "    .dataframe tbody tr th {\n",
       "        vertical-align: top;\n",
       "    }\n",
       "\n",
       "    .dataframe thead th {\n",
       "        text-align: right;\n",
       "    }\n",
       "</style>\n",
       "<table border=\"1\" class=\"dataframe\">\n",
       "  <thead>\n",
       "    <tr style=\"text-align: right;\">\n",
       "      <th></th>\n",
       "      <th>Ptid</th>\n",
       "      <th>Persistency_Flag</th>\n",
       "      <th>Gender</th>\n",
       "      <th>Race</th>\n",
       "      <th>Ethnicity</th>\n",
       "      <th>Region</th>\n",
       "      <th>Age_Bucket</th>\n",
       "      <th>Ntm_Speciality</th>\n",
       "      <th>Ntm_Specialist_Flag</th>\n",
       "      <th>Ntm_Speciality_Bucket</th>\n",
       "      <th>...</th>\n",
       "      <th>Risk_Family_History_Of_Osteoporosis</th>\n",
       "      <th>Risk_Low_Calcium_Intake</th>\n",
       "      <th>Risk_Vitamin_D_Insufficiency</th>\n",
       "      <th>Risk_Poor_Health_Frailty</th>\n",
       "      <th>Risk_Excessive_Thinness</th>\n",
       "      <th>Risk_Hysterectomy_Oophorectomy</th>\n",
       "      <th>Risk_Estrogen_Deficiency</th>\n",
       "      <th>Risk_Immobilization</th>\n",
       "      <th>Risk_Recurring_Falls</th>\n",
       "      <th>Count_Of_Risks</th>\n",
       "    </tr>\n",
       "  </thead>\n",
       "  <tbody>\n",
       "    <tr>\n",
       "      <th>0</th>\n",
       "      <td>P1</td>\n",
       "      <td>Persistent</td>\n",
       "      <td>Male</td>\n",
       "      <td>Caucasian</td>\n",
       "      <td>Not Hispanic</td>\n",
       "      <td>West</td>\n",
       "      <td>&gt;75</td>\n",
       "      <td>GENERAL PRACTITIONER</td>\n",
       "      <td>Others</td>\n",
       "      <td>OB/GYN/Others/PCP/Unknown</td>\n",
       "      <td>...</td>\n",
       "      <td>N</td>\n",
       "      <td>N</td>\n",
       "      <td>N</td>\n",
       "      <td>N</td>\n",
       "      <td>N</td>\n",
       "      <td>N</td>\n",
       "      <td>N</td>\n",
       "      <td>N</td>\n",
       "      <td>N</td>\n",
       "      <td>0</td>\n",
       "    </tr>\n",
       "    <tr>\n",
       "      <th>1</th>\n",
       "      <td>P2</td>\n",
       "      <td>Non-Persistent</td>\n",
       "      <td>Male</td>\n",
       "      <td>Asian</td>\n",
       "      <td>Not Hispanic</td>\n",
       "      <td>West</td>\n",
       "      <td>55-65</td>\n",
       "      <td>GENERAL PRACTITIONER</td>\n",
       "      <td>Others</td>\n",
       "      <td>OB/GYN/Others/PCP/Unknown</td>\n",
       "      <td>...</td>\n",
       "      <td>N</td>\n",
       "      <td>N</td>\n",
       "      <td>N</td>\n",
       "      <td>N</td>\n",
       "      <td>N</td>\n",
       "      <td>N</td>\n",
       "      <td>N</td>\n",
       "      <td>N</td>\n",
       "      <td>N</td>\n",
       "      <td>0</td>\n",
       "    </tr>\n",
       "    <tr>\n",
       "      <th>2</th>\n",
       "      <td>P3</td>\n",
       "      <td>Non-Persistent</td>\n",
       "      <td>Female</td>\n",
       "      <td>Other/Unknown</td>\n",
       "      <td>Hispanic</td>\n",
       "      <td>Midwest</td>\n",
       "      <td>65-75</td>\n",
       "      <td>GENERAL PRACTITIONER</td>\n",
       "      <td>Others</td>\n",
       "      <td>OB/GYN/Others/PCP/Unknown</td>\n",
       "      <td>...</td>\n",
       "      <td>N</td>\n",
       "      <td>Y</td>\n",
       "      <td>N</td>\n",
       "      <td>N</td>\n",
       "      <td>N</td>\n",
       "      <td>N</td>\n",
       "      <td>N</td>\n",
       "      <td>N</td>\n",
       "      <td>N</td>\n",
       "      <td>2</td>\n",
       "    </tr>\n",
       "    <tr>\n",
       "      <th>3</th>\n",
       "      <td>P4</td>\n",
       "      <td>Non-Persistent</td>\n",
       "      <td>Female</td>\n",
       "      <td>Caucasian</td>\n",
       "      <td>Not Hispanic</td>\n",
       "      <td>Midwest</td>\n",
       "      <td>&gt;75</td>\n",
       "      <td>GENERAL PRACTITIONER</td>\n",
       "      <td>Others</td>\n",
       "      <td>OB/GYN/Others/PCP/Unknown</td>\n",
       "      <td>...</td>\n",
       "      <td>N</td>\n",
       "      <td>N</td>\n",
       "      <td>N</td>\n",
       "      <td>N</td>\n",
       "      <td>N</td>\n",
       "      <td>N</td>\n",
       "      <td>N</td>\n",
       "      <td>N</td>\n",
       "      <td>N</td>\n",
       "      <td>1</td>\n",
       "    </tr>\n",
       "    <tr>\n",
       "      <th>4</th>\n",
       "      <td>P5</td>\n",
       "      <td>Non-Persistent</td>\n",
       "      <td>Female</td>\n",
       "      <td>Caucasian</td>\n",
       "      <td>Not Hispanic</td>\n",
       "      <td>Midwest</td>\n",
       "      <td>&gt;75</td>\n",
       "      <td>GENERAL PRACTITIONER</td>\n",
       "      <td>Others</td>\n",
       "      <td>OB/GYN/Others/PCP/Unknown</td>\n",
       "      <td>...</td>\n",
       "      <td>N</td>\n",
       "      <td>N</td>\n",
       "      <td>N</td>\n",
       "      <td>N</td>\n",
       "      <td>N</td>\n",
       "      <td>N</td>\n",
       "      <td>N</td>\n",
       "      <td>N</td>\n",
       "      <td>N</td>\n",
       "      <td>1</td>\n",
       "    </tr>\n",
       "  </tbody>\n",
       "</table>\n",
       "<p>5 rows × 69 columns</p>\n",
       "</div>"
      ],
      "text/plain": [
       "  Ptid Persistency_Flag  Gender           Race     Ethnicity   Region  \\\n",
       "0   P1       Persistent    Male      Caucasian  Not Hispanic     West   \n",
       "1   P2   Non-Persistent    Male          Asian  Not Hispanic     West   \n",
       "2   P3   Non-Persistent  Female  Other/Unknown      Hispanic  Midwest   \n",
       "3   P4   Non-Persistent  Female      Caucasian  Not Hispanic  Midwest   \n",
       "4   P5   Non-Persistent  Female      Caucasian  Not Hispanic  Midwest   \n",
       "\n",
       "  Age_Bucket        Ntm_Speciality Ntm_Specialist_Flag  \\\n",
       "0        >75  GENERAL PRACTITIONER              Others   \n",
       "1      55-65  GENERAL PRACTITIONER              Others   \n",
       "2      65-75  GENERAL PRACTITIONER              Others   \n",
       "3        >75  GENERAL PRACTITIONER              Others   \n",
       "4        >75  GENERAL PRACTITIONER              Others   \n",
       "\n",
       "       Ntm_Speciality_Bucket  ... Risk_Family_History_Of_Osteoporosis  \\\n",
       "0  OB/GYN/Others/PCP/Unknown  ...                                   N   \n",
       "1  OB/GYN/Others/PCP/Unknown  ...                                   N   \n",
       "2  OB/GYN/Others/PCP/Unknown  ...                                   N   \n",
       "3  OB/GYN/Others/PCP/Unknown  ...                                   N   \n",
       "4  OB/GYN/Others/PCP/Unknown  ...                                   N   \n",
       "\n",
       "  Risk_Low_Calcium_Intake  Risk_Vitamin_D_Insufficiency  \\\n",
       "0                       N                             N   \n",
       "1                       N                             N   \n",
       "2                       Y                             N   \n",
       "3                       N                             N   \n",
       "4                       N                             N   \n",
       "\n",
       "  Risk_Poor_Health_Frailty Risk_Excessive_Thinness  \\\n",
       "0                        N                       N   \n",
       "1                        N                       N   \n",
       "2                        N                       N   \n",
       "3                        N                       N   \n",
       "4                        N                       N   \n",
       "\n",
       "  Risk_Hysterectomy_Oophorectomy Risk_Estrogen_Deficiency Risk_Immobilization  \\\n",
       "0                              N                        N                   N   \n",
       "1                              N                        N                   N   \n",
       "2                              N                        N                   N   \n",
       "3                              N                        N                   N   \n",
       "4                              N                        N                   N   \n",
       "\n",
       "  Risk_Recurring_Falls Count_Of_Risks  \n",
       "0                    N              0  \n",
       "1                    N              0  \n",
       "2                    N              2  \n",
       "3                    N              1  \n",
       "4                    N              1  \n",
       "\n",
       "[5 rows x 69 columns]"
      ]
     },
     "execution_count": 6,
     "metadata": {},
     "output_type": "execute_result"
    }
   ],
   "source": [
    "df = pd.read_csv('Persistent_vs_NonPersistent.csv')\n",
    "df.head()"
   ]
  },
  {
   "cell_type": "code",
   "execution_count": 3,
   "id": "b5613b6f",
   "metadata": {},
   "outputs": [
    {
     "data": {
      "text/plain": [
       "(3424, 69)"
      ]
     },
     "execution_count": 3,
     "metadata": {},
     "output_type": "execute_result"
    }
   ],
   "source": [
    "df.shape"
   ]
  },
  {
   "cell_type": "markdown",
   "id": "87e9c052",
   "metadata": {},
   "source": [
    "The dataset has 3424 rows and 69 columns."
   ]
  },
  {
   "cell_type": "code",
   "execution_count": 4,
   "id": "40fc49b5",
   "metadata": {},
   "outputs": [
    {
     "data": {
      "text/html": [
       "<div>\n",
       "<style scoped>\n",
       "    .dataframe tbody tr th:only-of-type {\n",
       "        vertical-align: middle;\n",
       "    }\n",
       "\n",
       "    .dataframe tbody tr th {\n",
       "        vertical-align: top;\n",
       "    }\n",
       "\n",
       "    .dataframe thead th {\n",
       "        text-align: right;\n",
       "    }\n",
       "</style>\n",
       "<table border=\"1\" class=\"dataframe\">\n",
       "  <thead>\n",
       "    <tr style=\"text-align: right;\">\n",
       "      <th></th>\n",
       "      <th>Ptid</th>\n",
       "      <th>Persistency_Flag</th>\n",
       "      <th>Gender</th>\n",
       "      <th>Race</th>\n",
       "      <th>Ethnicity</th>\n",
       "      <th>Region</th>\n",
       "      <th>Age_Bucket</th>\n",
       "      <th>Ntm_Speciality</th>\n",
       "      <th>Ntm_Specialist_Flag</th>\n",
       "      <th>Ntm_Speciality_Bucket</th>\n",
       "      <th>...</th>\n",
       "      <th>Risk_Family_History_Of_Osteoporosis</th>\n",
       "      <th>Risk_Low_Calcium_Intake</th>\n",
       "      <th>Risk_Vitamin_D_Insufficiency</th>\n",
       "      <th>Risk_Poor_Health_Frailty</th>\n",
       "      <th>Risk_Excessive_Thinness</th>\n",
       "      <th>Risk_Hysterectomy_Oophorectomy</th>\n",
       "      <th>Risk_Estrogen_Deficiency</th>\n",
       "      <th>Risk_Immobilization</th>\n",
       "      <th>Risk_Recurring_Falls</th>\n",
       "      <th>Count_Of_Risks</th>\n",
       "    </tr>\n",
       "  </thead>\n",
       "  <tbody>\n",
       "    <tr>\n",
       "      <th>3419</th>\n",
       "      <td>P3420</td>\n",
       "      <td>Persistent</td>\n",
       "      <td>Female</td>\n",
       "      <td>Caucasian</td>\n",
       "      <td>Not Hispanic</td>\n",
       "      <td>South</td>\n",
       "      <td>&gt;75</td>\n",
       "      <td>GENERAL PRACTITIONER</td>\n",
       "      <td>Others</td>\n",
       "      <td>OB/GYN/Others/PCP/Unknown</td>\n",
       "      <td>...</td>\n",
       "      <td>N</td>\n",
       "      <td>N</td>\n",
       "      <td>Y</td>\n",
       "      <td>N</td>\n",
       "      <td>N</td>\n",
       "      <td>N</td>\n",
       "      <td>N</td>\n",
       "      <td>N</td>\n",
       "      <td>N</td>\n",
       "      <td>1</td>\n",
       "    </tr>\n",
       "    <tr>\n",
       "      <th>3420</th>\n",
       "      <td>P3421</td>\n",
       "      <td>Persistent</td>\n",
       "      <td>Female</td>\n",
       "      <td>Caucasian</td>\n",
       "      <td>Not Hispanic</td>\n",
       "      <td>South</td>\n",
       "      <td>&gt;75</td>\n",
       "      <td>Unknown</td>\n",
       "      <td>Others</td>\n",
       "      <td>OB/GYN/Others/PCP/Unknown</td>\n",
       "      <td>...</td>\n",
       "      <td>N</td>\n",
       "      <td>N</td>\n",
       "      <td>N</td>\n",
       "      <td>N</td>\n",
       "      <td>N</td>\n",
       "      <td>N</td>\n",
       "      <td>N</td>\n",
       "      <td>N</td>\n",
       "      <td>N</td>\n",
       "      <td>0</td>\n",
       "    </tr>\n",
       "    <tr>\n",
       "      <th>3421</th>\n",
       "      <td>P3422</td>\n",
       "      <td>Persistent</td>\n",
       "      <td>Female</td>\n",
       "      <td>Caucasian</td>\n",
       "      <td>Not Hispanic</td>\n",
       "      <td>South</td>\n",
       "      <td>&gt;75</td>\n",
       "      <td>ENDOCRINOLOGY</td>\n",
       "      <td>Specialist</td>\n",
       "      <td>Endo/Onc/Uro</td>\n",
       "      <td>...</td>\n",
       "      <td>N</td>\n",
       "      <td>N</td>\n",
       "      <td>Y</td>\n",
       "      <td>N</td>\n",
       "      <td>N</td>\n",
       "      <td>N</td>\n",
       "      <td>N</td>\n",
       "      <td>N</td>\n",
       "      <td>N</td>\n",
       "      <td>1</td>\n",
       "    </tr>\n",
       "    <tr>\n",
       "      <th>3422</th>\n",
       "      <td>P3423</td>\n",
       "      <td>Non-Persistent</td>\n",
       "      <td>Female</td>\n",
       "      <td>Caucasian</td>\n",
       "      <td>Not Hispanic</td>\n",
       "      <td>South</td>\n",
       "      <td>55-65</td>\n",
       "      <td>Unknown</td>\n",
       "      <td>Others</td>\n",
       "      <td>OB/GYN/Others/PCP/Unknown</td>\n",
       "      <td>...</td>\n",
       "      <td>N</td>\n",
       "      <td>N</td>\n",
       "      <td>N</td>\n",
       "      <td>N</td>\n",
       "      <td>N</td>\n",
       "      <td>N</td>\n",
       "      <td>N</td>\n",
       "      <td>N</td>\n",
       "      <td>N</td>\n",
       "      <td>0</td>\n",
       "    </tr>\n",
       "    <tr>\n",
       "      <th>3423</th>\n",
       "      <td>P3424</td>\n",
       "      <td>Non-Persistent</td>\n",
       "      <td>Female</td>\n",
       "      <td>Caucasian</td>\n",
       "      <td>Not Hispanic</td>\n",
       "      <td>South</td>\n",
       "      <td>65-75</td>\n",
       "      <td>Unknown</td>\n",
       "      <td>Others</td>\n",
       "      <td>OB/GYN/Others/PCP/Unknown</td>\n",
       "      <td>...</td>\n",
       "      <td>N</td>\n",
       "      <td>N</td>\n",
       "      <td>Y</td>\n",
       "      <td>N</td>\n",
       "      <td>N</td>\n",
       "      <td>N</td>\n",
       "      <td>N</td>\n",
       "      <td>N</td>\n",
       "      <td>N</td>\n",
       "      <td>1</td>\n",
       "    </tr>\n",
       "  </tbody>\n",
       "</table>\n",
       "<p>5 rows × 69 columns</p>\n",
       "</div>"
      ],
      "text/plain": [
       "       Ptid Persistency_Flag  Gender       Race     Ethnicity Region  \\\n",
       "3419  P3420       Persistent  Female  Caucasian  Not Hispanic  South   \n",
       "3420  P3421       Persistent  Female  Caucasian  Not Hispanic  South   \n",
       "3421  P3422       Persistent  Female  Caucasian  Not Hispanic  South   \n",
       "3422  P3423   Non-Persistent  Female  Caucasian  Not Hispanic  South   \n",
       "3423  P3424   Non-Persistent  Female  Caucasian  Not Hispanic  South   \n",
       "\n",
       "     Age_Bucket        Ntm_Speciality Ntm_Specialist_Flag  \\\n",
       "3419        >75  GENERAL PRACTITIONER              Others   \n",
       "3420        >75               Unknown              Others   \n",
       "3421        >75         ENDOCRINOLOGY          Specialist   \n",
       "3422      55-65               Unknown              Others   \n",
       "3423      65-75               Unknown              Others   \n",
       "\n",
       "          Ntm_Speciality_Bucket  ... Risk_Family_History_Of_Osteoporosis  \\\n",
       "3419  OB/GYN/Others/PCP/Unknown  ...                                   N   \n",
       "3420  OB/GYN/Others/PCP/Unknown  ...                                   N   \n",
       "3421               Endo/Onc/Uro  ...                                   N   \n",
       "3422  OB/GYN/Others/PCP/Unknown  ...                                   N   \n",
       "3423  OB/GYN/Others/PCP/Unknown  ...                                   N   \n",
       "\n",
       "     Risk_Low_Calcium_Intake  Risk_Vitamin_D_Insufficiency  \\\n",
       "3419                       N                             Y   \n",
       "3420                       N                             N   \n",
       "3421                       N                             Y   \n",
       "3422                       N                             N   \n",
       "3423                       N                             Y   \n",
       "\n",
       "     Risk_Poor_Health_Frailty Risk_Excessive_Thinness  \\\n",
       "3419                        N                       N   \n",
       "3420                        N                       N   \n",
       "3421                        N                       N   \n",
       "3422                        N                       N   \n",
       "3423                        N                       N   \n",
       "\n",
       "     Risk_Hysterectomy_Oophorectomy Risk_Estrogen_Deficiency  \\\n",
       "3419                              N                        N   \n",
       "3420                              N                        N   \n",
       "3421                              N                        N   \n",
       "3422                              N                        N   \n",
       "3423                              N                        N   \n",
       "\n",
       "     Risk_Immobilization Risk_Recurring_Falls Count_Of_Risks  \n",
       "3419                   N                    N              1  \n",
       "3420                   N                    N              0  \n",
       "3421                   N                    N              1  \n",
       "3422                   N                    N              0  \n",
       "3423                   N                    N              1  \n",
       "\n",
       "[5 rows x 69 columns]"
      ]
     },
     "execution_count": 4,
     "metadata": {},
     "output_type": "execute_result"
    }
   ],
   "source": [
    "df.tail()"
   ]
  },
  {
   "cell_type": "markdown",
   "id": "33ec6e8c",
   "metadata": {},
   "source": [
    "# Descriptive Analysis of the Dataset"
   ]
  },
  {
   "cell_type": "code",
   "execution_count": 4,
   "id": "2abed5ad",
   "metadata": {},
   "outputs": [
    {
     "data": {
      "text/plain": [
       "<bound method NDFrame.describe of        Ptid Persistency_Flag  Gender           Race     Ethnicity   Region  \\\n",
       "0        P1       Persistent    Male      Caucasian  Not Hispanic     West   \n",
       "1        P2   Non-Persistent    Male          Asian  Not Hispanic     West   \n",
       "2        P3   Non-Persistent  Female  Other/Unknown      Hispanic  Midwest   \n",
       "3        P4   Non-Persistent  Female      Caucasian  Not Hispanic  Midwest   \n",
       "4        P5   Non-Persistent  Female      Caucasian  Not Hispanic  Midwest   \n",
       "...     ...              ...     ...            ...           ...      ...   \n",
       "3419  P3420       Persistent  Female      Caucasian  Not Hispanic    South   \n",
       "3420  P3421       Persistent  Female      Caucasian  Not Hispanic    South   \n",
       "3421  P3422       Persistent  Female      Caucasian  Not Hispanic    South   \n",
       "3422  P3423   Non-Persistent  Female      Caucasian  Not Hispanic    South   \n",
       "3423  P3424   Non-Persistent  Female      Caucasian  Not Hispanic    South   \n",
       "\n",
       "     Age_Bucket        Ntm_Speciality Ntm_Specialist_Flag  \\\n",
       "0           >75  GENERAL PRACTITIONER              Others   \n",
       "1         55-65  GENERAL PRACTITIONER              Others   \n",
       "2         65-75  GENERAL PRACTITIONER              Others   \n",
       "3           >75  GENERAL PRACTITIONER              Others   \n",
       "4           >75  GENERAL PRACTITIONER              Others   \n",
       "...         ...                   ...                 ...   \n",
       "3419        >75  GENERAL PRACTITIONER              Others   \n",
       "3420        >75               Unknown              Others   \n",
       "3421        >75         ENDOCRINOLOGY          Specialist   \n",
       "3422      55-65               Unknown              Others   \n",
       "3423      65-75               Unknown              Others   \n",
       "\n",
       "          Ntm_Speciality_Bucket  ... Risk_Family_History_Of_Osteoporosis  \\\n",
       "0     OB/GYN/Others/PCP/Unknown  ...                                   N   \n",
       "1     OB/GYN/Others/PCP/Unknown  ...                                   N   \n",
       "2     OB/GYN/Others/PCP/Unknown  ...                                   N   \n",
       "3     OB/GYN/Others/PCP/Unknown  ...                                   N   \n",
       "4     OB/GYN/Others/PCP/Unknown  ...                                   N   \n",
       "...                         ...  ...                                 ...   \n",
       "3419  OB/GYN/Others/PCP/Unknown  ...                                   N   \n",
       "3420  OB/GYN/Others/PCP/Unknown  ...                                   N   \n",
       "3421               Endo/Onc/Uro  ...                                   N   \n",
       "3422  OB/GYN/Others/PCP/Unknown  ...                                   N   \n",
       "3423  OB/GYN/Others/PCP/Unknown  ...                                   N   \n",
       "\n",
       "     Risk_Low_Calcium_Intake  Risk_Vitamin_D_Insufficiency  \\\n",
       "0                          N                             N   \n",
       "1                          N                             N   \n",
       "2                          Y                             N   \n",
       "3                          N                             N   \n",
       "4                          N                             N   \n",
       "...                      ...                           ...   \n",
       "3419                       N                             Y   \n",
       "3420                       N                             N   \n",
       "3421                       N                             Y   \n",
       "3422                       N                             N   \n",
       "3423                       N                             Y   \n",
       "\n",
       "     Risk_Poor_Health_Frailty Risk_Excessive_Thinness  \\\n",
       "0                           N                       N   \n",
       "1                           N                       N   \n",
       "2                           N                       N   \n",
       "3                           N                       N   \n",
       "4                           N                       N   \n",
       "...                       ...                     ...   \n",
       "3419                        N                       N   \n",
       "3420                        N                       N   \n",
       "3421                        N                       N   \n",
       "3422                        N                       N   \n",
       "3423                        N                       N   \n",
       "\n",
       "     Risk_Hysterectomy_Oophorectomy Risk_Estrogen_Deficiency  \\\n",
       "0                                 N                        N   \n",
       "1                                 N                        N   \n",
       "2                                 N                        N   \n",
       "3                                 N                        N   \n",
       "4                                 N                        N   \n",
       "...                             ...                      ...   \n",
       "3419                              N                        N   \n",
       "3420                              N                        N   \n",
       "3421                              N                        N   \n",
       "3422                              N                        N   \n",
       "3423                              N                        N   \n",
       "\n",
       "     Risk_Immobilization Risk_Recurring_Falls Count_Of_Risks  \n",
       "0                      N                    N              0  \n",
       "1                      N                    N              0  \n",
       "2                      N                    N              2  \n",
       "3                      N                    N              1  \n",
       "4                      N                    N              1  \n",
       "...                  ...                  ...            ...  \n",
       "3419                   N                    N              1  \n",
       "3420                   N                    N              0  \n",
       "3421                   N                    N              1  \n",
       "3422                   N                    N              0  \n",
       "3423                   N                    N              1  \n",
       "\n",
       "[3424 rows x 69 columns]>"
      ]
     },
     "execution_count": 4,
     "metadata": {},
     "output_type": "execute_result"
    }
   ],
   "source": [
    "df.describe"
   ]
  },
  {
   "cell_type": "code",
   "execution_count": 6,
   "id": "3fd34c66",
   "metadata": {},
   "outputs": [
    {
     "name": "stdout",
     "output_type": "stream",
     "text": [
      "<class 'pandas.core.frame.DataFrame'>\n",
      "RangeIndex: 3424 entries, 0 to 3423\n",
      "Data columns (total 69 columns):\n",
      " #   Column                                                              Non-Null Count  Dtype \n",
      "---  ------                                                              --------------  ----- \n",
      " 0   Ptid                                                                3424 non-null   object\n",
      " 1   Persistency_Flag                                                    3424 non-null   object\n",
      " 2   Gender                                                              3424 non-null   object\n",
      " 3   Race                                                                3424 non-null   object\n",
      " 4   Ethnicity                                                           3424 non-null   object\n",
      " 5   Region                                                              3424 non-null   object\n",
      " 6   Age_Bucket                                                          3424 non-null   object\n",
      " 7   Ntm_Speciality                                                      3424 non-null   object\n",
      " 8   Ntm_Specialist_Flag                                                 3424 non-null   object\n",
      " 9   Ntm_Speciality_Bucket                                               3424 non-null   object\n",
      " 10  Gluco_Record_Prior_Ntm                                              3424 non-null   object\n",
      " 11  Gluco_Record_During_Rx                                              3424 non-null   object\n",
      " 12  Dexa_Freq_During_Rx                                                 3424 non-null   int64 \n",
      " 13  Dexa_During_Rx                                                      3424 non-null   object\n",
      " 14  Frag_Frac_Prior_Ntm                                                 3424 non-null   object\n",
      " 15  Frag_Frac_During_Rx                                                 3424 non-null   object\n",
      " 16  Risk_Segment_Prior_Ntm                                              3424 non-null   object\n",
      " 17  Tscore_Bucket_Prior_Ntm                                             3424 non-null   object\n",
      " 18  Risk_Segment_During_Rx                                              3424 non-null   object\n",
      " 19  Tscore_Bucket_During_Rx                                             3424 non-null   object\n",
      " 20  Change_T_Score                                                      3424 non-null   object\n",
      " 21  Change_Risk_Segment                                                 3424 non-null   object\n",
      " 22  Adherent_Flag                                                       3424 non-null   object\n",
      " 23  Idn_Indicator                                                       3424 non-null   object\n",
      " 24  Injectable_Experience_During_Rx                                     3424 non-null   object\n",
      " 25  Comorb_Encounter_For_Screening_For_Malignant_Neoplasms              3424 non-null   object\n",
      " 26  Comorb_Encounter_For_Immunization                                   3424 non-null   object\n",
      " 27  Comorb_Encntr_For_General_Exam_W_O_Complaint,_Susp_Or_Reprtd_Dx     3424 non-null   object\n",
      " 28  Comorb_Vitamin_D_Deficiency                                         3424 non-null   object\n",
      " 29  Comorb_Other_Joint_Disorder_Not_Elsewhere_Classified                3424 non-null   object\n",
      " 30  Comorb_Encntr_For_Oth_Sp_Exam_W_O_Complaint_Suspected_Or_Reprtd_Dx  3424 non-null   object\n",
      " 31  Comorb_Long_Term_Current_Drug_Therapy                               3424 non-null   object\n",
      " 32  Comorb_Dorsalgia                                                    3424 non-null   object\n",
      " 33  Comorb_Personal_History_Of_Other_Diseases_And_Conditions            3424 non-null   object\n",
      " 34  Comorb_Other_Disorders_Of_Bone_Density_And_Structure                3424 non-null   object\n",
      " 35  Comorb_Disorders_of_lipoprotein_metabolism_and_other_lipidemias     3424 non-null   object\n",
      " 36  Comorb_Osteoporosis_without_current_pathological_fracture           3424 non-null   object\n",
      " 37  Comorb_Personal_history_of_malignant_neoplasm                       3424 non-null   object\n",
      " 38  Comorb_Gastro_esophageal_reflux_disease                             3424 non-null   object\n",
      " 39  Concom_Cholesterol_And_Triglyceride_Regulating_Preparations         3424 non-null   object\n",
      " 40  Concom_Narcotics                                                    3424 non-null   object\n",
      " 41  Concom_Systemic_Corticosteroids_Plain                               3424 non-null   object\n",
      " 42  Concom_Anti_Depressants_And_Mood_Stabilisers                        3424 non-null   object\n",
      " 43  Concom_Fluoroquinolones                                             3424 non-null   object\n",
      " 44  Concom_Cephalosporins                                               3424 non-null   object\n",
      " 45  Concom_Macrolides_And_Similar_Types                                 3424 non-null   object\n",
      " 46  Concom_Broad_Spectrum_Penicillins                                   3424 non-null   object\n",
      " 47  Concom_Anaesthetics_General                                         3424 non-null   object\n",
      " 48  Concom_Viral_Vaccines                                               3424 non-null   object\n",
      " 49  Risk_Type_1_Insulin_Dependent_Diabetes                              3424 non-null   object\n",
      " 50  Risk_Osteogenesis_Imperfecta                                        3424 non-null   object\n",
      " 51  Risk_Rheumatoid_Arthritis                                           3424 non-null   object\n",
      " 52  Risk_Untreated_Chronic_Hyperthyroidism                              3424 non-null   object\n",
      " 53  Risk_Untreated_Chronic_Hypogonadism                                 3424 non-null   object\n",
      " 54  Risk_Untreated_Early_Menopause                                      3424 non-null   object\n",
      " 55  Risk_Patient_Parent_Fractured_Their_Hip                             3424 non-null   object\n",
      " 56  Risk_Smoking_Tobacco                                                3424 non-null   object\n",
      " 57  Risk_Chronic_Malnutrition_Or_Malabsorption                          3424 non-null   object\n",
      " 58  Risk_Chronic_Liver_Disease                                          3424 non-null   object\n",
      " 59  Risk_Family_History_Of_Osteoporosis                                 3424 non-null   object\n",
      " 60  Risk_Low_Calcium_Intake                                             3424 non-null   object\n",
      " 61  Risk_Vitamin_D_Insufficiency                                        3424 non-null   object\n",
      " 62  Risk_Poor_Health_Frailty                                            3424 non-null   object\n",
      " 63  Risk_Excessive_Thinness                                             3424 non-null   object\n",
      " 64  Risk_Hysterectomy_Oophorectomy                                      3424 non-null   object\n",
      " 65  Risk_Estrogen_Deficiency                                            3424 non-null   object\n",
      " 66  Risk_Immobilization                                                 3424 non-null   object\n",
      " 67  Risk_Recurring_Falls                                                3424 non-null   object\n",
      " 68  Count_Of_Risks                                                      3424 non-null   int64 \n",
      "dtypes: int64(2), object(67)\n",
      "memory usage: 1.8+ MB\n"
     ]
    }
   ],
   "source": [
    "df.info()"
   ]
  },
  {
   "cell_type": "code",
   "execution_count": 7,
   "id": "5d63bb37",
   "metadata": {},
   "outputs": [
    {
     "name": "stdout",
     "output_type": "stream",
     "text": [
      "Rows     :  3424\n",
      "Columns  :  69\n",
      "\n",
      "Features : \n",
      " ['Ptid', 'Persistency_Flag', 'Gender', 'Race', 'Ethnicity', 'Region', 'Age_Bucket', 'Ntm_Speciality', 'Ntm_Specialist_Flag', 'Ntm_Speciality_Bucket', 'Gluco_Record_Prior_Ntm', 'Gluco_Record_During_Rx', 'Dexa_Freq_During_Rx', 'Dexa_During_Rx', 'Frag_Frac_Prior_Ntm', 'Frag_Frac_During_Rx', 'Risk_Segment_Prior_Ntm', 'Tscore_Bucket_Prior_Ntm', 'Risk_Segment_During_Rx', 'Tscore_Bucket_During_Rx', 'Change_T_Score', 'Change_Risk_Segment', 'Adherent_Flag', 'Idn_Indicator', 'Injectable_Experience_During_Rx', 'Comorb_Encounter_For_Screening_For_Malignant_Neoplasms', 'Comorb_Encounter_For_Immunization', 'Comorb_Encntr_For_General_Exam_W_O_Complaint,_Susp_Or_Reprtd_Dx', 'Comorb_Vitamin_D_Deficiency', 'Comorb_Other_Joint_Disorder_Not_Elsewhere_Classified', 'Comorb_Encntr_For_Oth_Sp_Exam_W_O_Complaint_Suspected_Or_Reprtd_Dx', 'Comorb_Long_Term_Current_Drug_Therapy', 'Comorb_Dorsalgia', 'Comorb_Personal_History_Of_Other_Diseases_And_Conditions', 'Comorb_Other_Disorders_Of_Bone_Density_And_Structure', 'Comorb_Disorders_of_lipoprotein_metabolism_and_other_lipidemias', 'Comorb_Osteoporosis_without_current_pathological_fracture', 'Comorb_Personal_history_of_malignant_neoplasm', 'Comorb_Gastro_esophageal_reflux_disease', 'Concom_Cholesterol_And_Triglyceride_Regulating_Preparations', 'Concom_Narcotics', 'Concom_Systemic_Corticosteroids_Plain', 'Concom_Anti_Depressants_And_Mood_Stabilisers', 'Concom_Fluoroquinolones', 'Concom_Cephalosporins', 'Concom_Macrolides_And_Similar_Types', 'Concom_Broad_Spectrum_Penicillins', 'Concom_Anaesthetics_General', 'Concom_Viral_Vaccines', 'Risk_Type_1_Insulin_Dependent_Diabetes', 'Risk_Osteogenesis_Imperfecta', 'Risk_Rheumatoid_Arthritis', 'Risk_Untreated_Chronic_Hyperthyroidism', 'Risk_Untreated_Chronic_Hypogonadism', 'Risk_Untreated_Early_Menopause', 'Risk_Patient_Parent_Fractured_Their_Hip', 'Risk_Smoking_Tobacco', 'Risk_Chronic_Malnutrition_Or_Malabsorption', 'Risk_Chronic_Liver_Disease', 'Risk_Family_History_Of_Osteoporosis', 'Risk_Low_Calcium_Intake', 'Risk_Vitamin_D_Insufficiency', 'Risk_Poor_Health_Frailty', 'Risk_Excessive_Thinness', 'Risk_Hysterectomy_Oophorectomy', 'Risk_Estrogen_Deficiency', 'Risk_Immobilization', 'Risk_Recurring_Falls', 'Count_Of_Risks']\n"
     ]
    }
   ],
   "source": [
    "print (\"Rows     : \" ,df.shape[0])\n",
    "print (\"Columns  : \" ,df.shape[1])\n",
    "print (\"\\nFeatures : \\n\" ,df.columns.tolist())"
   ]
  },
  {
   "cell_type": "code",
   "execution_count": 8,
   "id": "1195ee95",
   "metadata": {},
   "outputs": [
    {
     "name": "stdout",
     "output_type": "stream",
     "text": [
      "\n",
      "Missing values :   Ptid                              False\n",
      "Persistency_Flag                  False\n",
      "Gender                            False\n",
      "Race                              False\n",
      "Ethnicity                         False\n",
      "                                  ...  \n",
      "Risk_Hysterectomy_Oophorectomy    False\n",
      "Risk_Estrogen_Deficiency          False\n",
      "Risk_Immobilization               False\n",
      "Risk_Recurring_Falls              False\n",
      "Count_Of_Risks                    False\n",
      "Length: 69, dtype: bool\n"
     ]
    }
   ],
   "source": [
    "print (\"\\nMissing values :  \", df.isnull().any())"
   ]
  },
  {
   "cell_type": "markdown",
   "id": "1609442f",
   "metadata": {},
   "source": [
    "Thus there are no missing values in our dataset."
   ]
  },
  {
   "cell_type": "code",
   "execution_count": 12,
   "id": "8806f4be",
   "metadata": {},
   "outputs": [
    {
     "name": "stdout",
     "output_type": "stream",
     "text": [
      "\n",
      "Unique values :  \n",
      " Ptid                              3424\n",
      "Persistency_Flag                     2\n",
      "Gender                               2\n",
      "Race                                 4\n",
      "Ethnicity                            3\n",
      "                                  ... \n",
      "Risk_Hysterectomy_Oophorectomy       2\n",
      "Risk_Estrogen_Deficiency             2\n",
      "Risk_Immobilization                  2\n",
      "Risk_Recurring_Falls                 2\n",
      "Count_Of_Risks                       8\n",
      "Length: 69, dtype: int64\n"
     ]
    }
   ],
   "source": [
    "print (\"\\nUnique values :  \\n\",df.nunique())"
   ]
  },
  {
   "cell_type": "code",
   "execution_count": 13,
   "id": "1282e48d",
   "metadata": {},
   "outputs": [
    {
     "data": {
      "text/plain": [
       "Ptid                              0\n",
       "Persistency_Flag                  0\n",
       "Gender                            0\n",
       "Race                              0\n",
       "Ethnicity                         0\n",
       "                                 ..\n",
       "Risk_Hysterectomy_Oophorectomy    0\n",
       "Risk_Estrogen_Deficiency          0\n",
       "Risk_Immobilization               0\n",
       "Risk_Recurring_Falls              0\n",
       "Count_Of_Risks                    0\n",
       "Length: 69, dtype: int64"
      ]
     },
     "execution_count": 13,
     "metadata": {},
     "output_type": "execute_result"
    }
   ],
   "source": [
    "df.isnull().sum()"
   ]
  },
  {
   "cell_type": "code",
   "execution_count": 14,
   "id": "30758b7c",
   "metadata": {},
   "outputs": [
    {
     "data": {
      "text/plain": [
       "Persistency_Flag\n",
       "Non-Persistent    2135\n",
       "Persistent        1289\n",
       "dtype: int64"
      ]
     },
     "execution_count": 14,
     "metadata": {},
     "output_type": "execute_result"
    }
   ],
   "source": [
    "df.value_counts('Persistency_Flag')"
   ]
  },
  {
   "cell_type": "code",
   "execution_count": 2,
   "id": "b60a1c49",
   "metadata": {},
   "outputs": [],
   "source": [
    "import seaborn as sns"
   ]
  },
  {
   "cell_type": "code",
   "execution_count": 16,
   "id": "0a783e7f",
   "metadata": {},
   "outputs": [
    {
     "data": {
      "text/plain": [
       "<AxesSubplot:xlabel='Persistency_Flag', ylabel='count'>"
      ]
     },
     "execution_count": 16,
     "metadata": {},
     "output_type": "execute_result"
    },
    {
     "data": {
      "image/png": "[encoded data removed]",
      "text/plain": [
       "<Figure size 640x480 with 1 Axes>"
      ]
     },
     "metadata": {},
     "output_type": "display_data"
    }
   ],
   "source": [
    "sns.countplot(x=\"Persistency_Flag\",data=df, dodge=True)"
   ]
  },
  {
   "cell_type": "code",
   "execution_count": 10,
   "id": "93fc8ab2",
   "metadata": {},
   "outputs": [
    {
     "data": {
      "text/plain": [
       "<AxesSubplot:xlabel='Age_Bucket', ylabel='count'>"
      ]
     },
     "execution_count": 10,
     "metadata": {},
     "output_type": "execute_result"
    },
    {
     "data": {
      "image/png": "[encoded data removed]",
      "text/plain": [
       "<Figure size 640x480 with 1 Axes>"
      ]
     },
     "metadata": {},
     "output_type": "display_data"
    }
   ],
   "source": [
    "sns.countplot(x=\"Age_Bucket\", hue='Persistency_Flag', data=df)"
   ]
  },
  {
   "cell_type": "code",
   "execution_count": 12,
   "id": "05ebda70",
   "metadata": {},
   "outputs": [
    {
     "data": {
      "text/plain": [
       "<AxesSubplot:xlabel='Gender', ylabel='count'>"
      ]
     },
     "execution_count": 12,
     "metadata": {},
     "output_type": "execute_result"
    },
    {
     "data": {
      "image/png": "[encoded data removed]",
      "text/plain": [
       "<Figure size 640x480 with 1 Axes>"
      ]
     },
     "metadata": {},
     "output_type": "display_data"
    }
   ],
   "source": [
    "sns.countplot(x=\"Gender\", hue='Persistency_Flag', data=df)"
   ]
  },
  {
   "cell_type": "markdown",
   "id": "85f672fa",
   "metadata": {},
   "source": [
    "# Separating input variables and target variables"
   ]
  },
  {
   "cell_type": "code",
   "execution_count": 29,
   "id": "4e5c5b2a",
   "metadata": {},
   "outputs": [],
   "source": [
    "X = df.drop(columns='Persistency_Flag')\n",
    "y = df['Persistency_Flag']"
   ]
  },
  {
   "cell_type": "code",
   "execution_count": 24,
   "id": "af4f5351",
   "metadata": {},
   "outputs": [
    {
     "data": {
      "text/html": [
       "<div>\n",
       "<style scoped>\n",
       "    .dataframe tbody tr th:only-of-type {\n",
       "        vertical-align: middle;\n",
       "    }\n",
       "\n",
       "    .dataframe tbody tr th {\n",
       "        vertical-align: top;\n",
       "    }\n",
       "\n",
       "    .dataframe thead th {\n",
       "        text-align: right;\n",
       "    }\n",
       "</style>\n",
       "<table border=\"1\" class=\"dataframe\">\n",
       "  <thead>\n",
       "    <tr style=\"text-align: right;\">\n",
       "      <th></th>\n",
       "      <th>Ptid</th>\n",
       "      <th>Gender</th>\n",
       "      <th>Race</th>\n",
       "      <th>Ethnicity</th>\n",
       "      <th>Region</th>\n",
       "      <th>Age_Bucket</th>\n",
       "      <th>Ntm_Speciality</th>\n",
       "      <th>Ntm_Specialist_Flag</th>\n",
       "      <th>Ntm_Speciality_Bucket</th>\n",
       "      <th>Gluco_Record_Prior_Ntm</th>\n",
       "      <th>...</th>\n",
       "      <th>Risk_Family_History_Of_Osteoporosis</th>\n",
       "      <th>Risk_Low_Calcium_Intake</th>\n",
       "      <th>Risk_Vitamin_D_Insufficiency</th>\n",
       "      <th>Risk_Poor_Health_Frailty</th>\n",
       "      <th>Risk_Excessive_Thinness</th>\n",
       "      <th>Risk_Hysterectomy_Oophorectomy</th>\n",
       "      <th>Risk_Estrogen_Deficiency</th>\n",
       "      <th>Risk_Immobilization</th>\n",
       "      <th>Risk_Recurring_Falls</th>\n",
       "      <th>Count_Of_Risks</th>\n",
       "    </tr>\n",
       "  </thead>\n",
       "  <tbody>\n",
       "    <tr>\n",
       "      <th>0</th>\n",
       "      <td>P1</td>\n",
       "      <td>Male</td>\n",
       "      <td>Caucasian</td>\n",
       "      <td>Not Hispanic</td>\n",
       "      <td>West</td>\n",
       "      <td>&gt;75</td>\n",
       "      <td>GENERAL PRACTITIONER</td>\n",
       "      <td>Others</td>\n",
       "      <td>OB/GYN/Others/PCP/Unknown</td>\n",
       "      <td>N</td>\n",
       "      <td>...</td>\n",
       "      <td>N</td>\n",
       "      <td>N</td>\n",
       "      <td>N</td>\n",
       "      <td>N</td>\n",
       "      <td>N</td>\n",
       "      <td>N</td>\n",
       "      <td>N</td>\n",
       "      <td>N</td>\n",
       "      <td>N</td>\n",
       "      <td>0</td>\n",
       "    </tr>\n",
       "    <tr>\n",
       "      <th>1</th>\n",
       "      <td>P2</td>\n",
       "      <td>Male</td>\n",
       "      <td>Asian</td>\n",
       "      <td>Not Hispanic</td>\n",
       "      <td>West</td>\n",
       "      <td>55-65</td>\n",
       "      <td>GENERAL PRACTITIONER</td>\n",
       "      <td>Others</td>\n",
       "      <td>OB/GYN/Others/PCP/Unknown</td>\n",
       "      <td>N</td>\n",
       "      <td>...</td>\n",
       "      <td>N</td>\n",
       "      <td>N</td>\n",
       "      <td>N</td>\n",
       "      <td>N</td>\n",
       "      <td>N</td>\n",
       "      <td>N</td>\n",
       "      <td>N</td>\n",
       "      <td>N</td>\n",
       "      <td>N</td>\n",
       "      <td>0</td>\n",
       "    </tr>\n",
       "    <tr>\n",
       "      <th>2</th>\n",
       "      <td>P3</td>\n",
       "      <td>Female</td>\n",
       "      <td>Other/Unknown</td>\n",
       "      <td>Hispanic</td>\n",
       "      <td>Midwest</td>\n",
       "      <td>65-75</td>\n",
       "      <td>GENERAL PRACTITIONER</td>\n",
       "      <td>Others</td>\n",
       "      <td>OB/GYN/Others/PCP/Unknown</td>\n",
       "      <td>N</td>\n",
       "      <td>...</td>\n",
       "      <td>N</td>\n",
       "      <td>Y</td>\n",
       "      <td>N</td>\n",
       "      <td>N</td>\n",
       "      <td>N</td>\n",
       "      <td>N</td>\n",
       "      <td>N</td>\n",
       "      <td>N</td>\n",
       "      <td>N</td>\n",
       "      <td>2</td>\n",
       "    </tr>\n",
       "    <tr>\n",
       "      <th>3</th>\n",
       "      <td>P4</td>\n",
       "      <td>Female</td>\n",
       "      <td>Caucasian</td>\n",
       "      <td>Not Hispanic</td>\n",
       "      <td>Midwest</td>\n",
       "      <td>&gt;75</td>\n",
       "      <td>GENERAL PRACTITIONER</td>\n",
       "      <td>Others</td>\n",
       "      <td>OB/GYN/Others/PCP/Unknown</td>\n",
       "      <td>N</td>\n",
       "      <td>...</td>\n",
       "      <td>N</td>\n",
       "      <td>N</td>\n",
       "      <td>N</td>\n",
       "      <td>N</td>\n",
       "      <td>N</td>\n",
       "      <td>N</td>\n",
       "      <td>N</td>\n",
       "      <td>N</td>\n",
       "      <td>N</td>\n",
       "      <td>1</td>\n",
       "    </tr>\n",
       "    <tr>\n",
       "      <th>4</th>\n",
       "      <td>P5</td>\n",
       "      <td>Female</td>\n",
       "      <td>Caucasian</td>\n",
       "      <td>Not Hispanic</td>\n",
       "      <td>Midwest</td>\n",
       "      <td>&gt;75</td>\n",
       "      <td>GENERAL PRACTITIONER</td>\n",
       "      <td>Others</td>\n",
       "      <td>OB/GYN/Others/PCP/Unknown</td>\n",
       "      <td>Y</td>\n",
       "      <td>...</td>\n",
       "      <td>N</td>\n",
       "      <td>N</td>\n",
       "      <td>N</td>\n",
       "      <td>N</td>\n",
       "      <td>N</td>\n",
       "      <td>N</td>\n",
       "      <td>N</td>\n",
       "      <td>N</td>\n",
       "      <td>N</td>\n",
       "      <td>1</td>\n",
       "    </tr>\n",
       "  </tbody>\n",
       "</table>\n",
       "<p>5 rows × 68 columns</p>\n",
       "</div>"
      ],
      "text/plain": [
       "  Ptid  Gender           Race     Ethnicity   Region Age_Bucket  \\\n",
       "0   P1    Male      Caucasian  Not Hispanic     West        >75   \n",
       "1   P2    Male          Asian  Not Hispanic     West      55-65   \n",
       "2   P3  Female  Other/Unknown      Hispanic  Midwest      65-75   \n",
       "3   P4  Female      Caucasian  Not Hispanic  Midwest        >75   \n",
       "4   P5  Female      Caucasian  Not Hispanic  Midwest        >75   \n",
       "\n",
       "         Ntm_Speciality Ntm_Specialist_Flag      Ntm_Speciality_Bucket  \\\n",
       "0  GENERAL PRACTITIONER              Others  OB/GYN/Others/PCP/Unknown   \n",
       "1  GENERAL PRACTITIONER              Others  OB/GYN/Others/PCP/Unknown   \n",
       "2  GENERAL PRACTITIONER              Others  OB/GYN/Others/PCP/Unknown   \n",
       "3  GENERAL PRACTITIONER              Others  OB/GYN/Others/PCP/Unknown   \n",
       "4  GENERAL PRACTITIONER              Others  OB/GYN/Others/PCP/Unknown   \n",
       "\n",
       "  Gluco_Record_Prior_Ntm  ... Risk_Family_History_Of_Osteoporosis  \\\n",
       "0                      N  ...                                   N   \n",
       "1                      N  ...                                   N   \n",
       "2                      N  ...                                   N   \n",
       "3                      N  ...                                   N   \n",
       "4                      Y  ...                                   N   \n",
       "\n",
       "   Risk_Low_Calcium_Intake Risk_Vitamin_D_Insufficiency  \\\n",
       "0                        N                            N   \n",
       "1                        N                            N   \n",
       "2                        Y                            N   \n",
       "3                        N                            N   \n",
       "4                        N                            N   \n",
       "\n",
       "  Risk_Poor_Health_Frailty Risk_Excessive_Thinness  \\\n",
       "0                        N                       N   \n",
       "1                        N                       N   \n",
       "2                        N                       N   \n",
       "3                        N                       N   \n",
       "4                        N                       N   \n",
       "\n",
       "  Risk_Hysterectomy_Oophorectomy Risk_Estrogen_Deficiency Risk_Immobilization  \\\n",
       "0                              N                        N                   N   \n",
       "1                              N                        N                   N   \n",
       "2                              N                        N                   N   \n",
       "3                              N                        N                   N   \n",
       "4                              N                        N                   N   \n",
       "\n",
       "  Risk_Recurring_Falls Count_Of_Risks  \n",
       "0                    N              0  \n",
       "1                    N              0  \n",
       "2                    N              2  \n",
       "3                    N              1  \n",
       "4                    N              1  \n",
       "\n",
       "[5 rows x 68 columns]"
      ]
     },
     "execution_count": 24,
     "metadata": {},
     "output_type": "execute_result"
    }
   ],
   "source": [
    "X.head()"
   ]
  },
  {
   "cell_type": "code",
   "execution_count": 30,
   "id": "78f9f9fd",
   "metadata": {},
   "outputs": [
    {
     "data": {
      "text/plain": [
       "0        Persistent\n",
       "1    Non-Persistent\n",
       "2    Non-Persistent\n",
       "3    Non-Persistent\n",
       "4    Non-Persistent\n",
       "Name: Persistency_Flag, dtype: object"
      ]
     },
     "execution_count": 30,
     "metadata": {},
     "output_type": "execute_result"
    }
   ],
   "source": [
    "y.head()"
   ]
  },
  {
   "cell_type": "code",
   "execution_count": 31,
   "id": "62d2d39a",
   "metadata": {},
   "outputs": [
    {
     "name": "stdout",
     "output_type": "stream",
     "text": [
      "(3424, 68)\n",
      "(3424,)\n"
     ]
    }
   ],
   "source": [
    "print(X.shape)\n",
    "print(y.shape)"
   ]
  },
  {
   "cell_type": "code",
   "execution_count": 32,
   "id": "e14a8ee6",
   "metadata": {},
   "outputs": [],
   "source": [
    "from sklearn.preprocessing import LabelEncoder"
   ]
  },
  {
   "cell_type": "code",
   "execution_count": 33,
   "id": "b44476e1",
   "metadata": {},
   "outputs": [],
   "source": [
    "le = LabelEncoder()\n",
    "target = le.fit_transform(np.ravel(y))"
   ]
  },
  {
   "cell_type": "markdown",
   "id": "97084122",
   "metadata": {},
   "source": [
    "# Encoded target variable"
   ]
  },
  {
   "cell_type": "code",
   "execution_count": 34,
   "id": "69f469c8",
   "metadata": {},
   "outputs": [
    {
     "data": {
      "text/plain": [
       "array([1, 0, 0, ..., 1, 0, 0])"
      ]
     },
     "execution_count": 34,
     "metadata": {},
     "output_type": "execute_result"
    }
   ],
   "source": [
    "target"
   ]
  },
  {
   "cell_type": "markdown",
   "id": "d36076ee",
   "metadata": {},
   "source": [
    "# Target Class"
   ]
  },
  {
   "cell_type": "markdown",
   "id": "949ab889",
   "metadata": {},
   "source": [
    "Class \"1\" is Persistent & Class \"0\" is Non-Persistent"
   ]
  },
  {
   "cell_type": "markdown",
   "id": "2a5c1dab",
   "metadata": {},
   "source": [
    "# Label Encoder for Non-Numeric columns"
   ]
  },
  {
   "cell_type": "code",
   "execution_count": 35,
   "id": "9539c3e0",
   "metadata": {},
   "outputs": [],
   "source": [
    "from sklearn.preprocessing import LabelEncoder\n",
    "from sklearn.pipeline import Pipeline\n",
    "\n",
    "class MultiColumnLabelEncoder:\n",
    "    def __init__(self,columns = None):\n",
    "        self.columns = columns # array of column names to encode\n",
    "\n",
    "    def fit(self,X,y=None):\n",
    "        return self # not relevant here\n",
    "\n",
    "    def transform(self,X):\n",
    "        #Transforms columns of X specified in self.columns using LabelEncoder().\n",
    "        #If no columns specified, transforms all columns in X.\n",
    "        \n",
    "        output = X.copy()\n",
    "        if self.columns is not None:\n",
    "            for col in self.columns:\n",
    "                output[col] = LabelEncoder().fit_transform(output[col])\n",
    "        else:\n",
    "            for colname,col in output.iteritems():\n",
    "                output[colname] = LabelEncoder().fit_transform(col)\n",
    "        return output\n",
    "\n",
    "    def fit_transform(self,X,y=None):\n",
    "        return self.fit(X,y).transform(X)"
   ]
  },
  {
   "cell_type": "code",
   "execution_count": 36,
   "id": "4db1baa9",
   "metadata": {},
   "outputs": [],
   "source": [
    "New_df = MultiColumnLabelEncoder(columns = ['Ptid', 'Gender', 'Race', 'Ethnicity', 'Region', 'Age_Bucket', 'Ntm_Speciality', 'Ntm_Specialist_Flag', 'Ntm_Speciality_Bucket', 'Gluco_Record_Prior_Ntm', 'Gluco_Record_During_Rx', 'Dexa_During_Rx', 'Frag_Frac_Prior_Ntm', 'Frag_Frac_During_Rx', 'Risk_Segment_Prior_Ntm', 'Tscore_Bucket_Prior_Ntm', 'Risk_Segment_During_Rx', 'Tscore_Bucket_During_Rx', 'Change_T_Score', 'Change_Risk_Segment', 'Adherent_Flag', 'Idn_Indicator', 'Injectable_Experience_During_Rx', 'Comorb_Encounter_For_Screening_For_Malignant_Neoplasms', 'Comorb_Encounter_For_Immunization', 'Comorb_Encntr_For_General_Exam_W_O_Complaint,_Susp_Or_Reprtd_Dx', 'Comorb_Vitamin_D_Deficiency', 'Comorb_Other_Joint_Disorder_Not_Elsewhere_Classified', 'Comorb_Encntr_For_Oth_Sp_Exam_W_O_Complaint_Suspected_Or_Reprtd_Dx', 'Comorb_Long_Term_Current_Drug_Therapy', 'Comorb_Dorsalgia', 'Comorb_Personal_History_Of_Other_Diseases_And_Conditions', 'Comorb_Other_Disorders_Of_Bone_Density_And_Structure', 'Comorb_Disorders_of_lipoprotein_metabolism_and_other_lipidemias', 'Comorb_Osteoporosis_without_current_pathological_fracture', 'Comorb_Personal_history_of_malignant_neoplasm', 'Comorb_Gastro_esophageal_reflux_disease', 'Concom_Cholesterol_And_Triglyceride_Regulating_Preparations', 'Concom_Narcotics', 'Concom_Systemic_Corticosteroids_Plain', 'Concom_Anti_Depressants_And_Mood_Stabilisers', 'Concom_Fluoroquinolones', 'Concom_Cephalosporins', 'Concom_Macrolides_And_Similar_Types', 'Concom_Broad_Spectrum_Penicillins', 'Concom_Anaesthetics_General', 'Concom_Viral_Vaccines', 'Risk_Type_1_Insulin_Dependent_Diabetes', 'Risk_Osteogenesis_Imperfecta', 'Risk_Rheumatoid_Arthritis', 'Risk_Untreated_Chronic_Hyperthyroidism', 'Risk_Untreated_Chronic_Hypogonadism', 'Risk_Untreated_Early_Menopause', 'Risk_Patient_Parent_Fractured_Their_Hip', 'Risk_Smoking_Tobacco', 'Risk_Chronic_Malnutrition_Or_Malabsorption', 'Risk_Chronic_Liver_Disease', 'Risk_Family_History_Of_Osteoporosis', 'Risk_Low_Calcium_Intake', 'Risk_Vitamin_D_Insufficiency', 'Risk_Poor_Health_Frailty', 'Risk_Excessive_Thinness', 'Risk_Hysterectomy_Oophorectomy', 'Risk_Estrogen_Deficiency', 'Risk_Immobilization', 'Risk_Recurring_Falls']).fit_transform(X)"
   ]
  },
  {
   "cell_type": "markdown",
   "id": "6bb85e1d",
   "metadata": {},
   "source": [
    "# New dataframe after Label Encoding"
   ]
  },
  {
   "cell_type": "code",
   "execution_count": 37,
   "id": "450d2f35",
   "metadata": {},
   "outputs": [
    {
     "data": {
      "text/html": [
       "<div>\n",
       "<style scoped>\n",
       "    .dataframe tbody tr th:only-of-type {\n",
       "        vertical-align: middle;\n",
       "    }\n",
       "\n",
       "    .dataframe tbody tr th {\n",
       "        vertical-align: top;\n",
       "    }\n",
       "\n",
       "    .dataframe thead th {\n",
       "        text-align: right;\n",
       "    }\n",
       "</style>\n",
       "<table border=\"1\" class=\"dataframe\">\n",
       "  <thead>\n",
       "    <tr style=\"text-align: right;\">\n",
       "      <th></th>\n",
       "      <th>Ptid</th>\n",
       "      <th>Gender</th>\n",
       "      <th>Race</th>\n",
       "      <th>Ethnicity</th>\n",
       "      <th>Region</th>\n",
       "      <th>Age_Bucket</th>\n",
       "      <th>Ntm_Speciality</th>\n",
       "      <th>Ntm_Specialist_Flag</th>\n",
       "      <th>Ntm_Speciality_Bucket</th>\n",
       "      <th>Gluco_Record_Prior_Ntm</th>\n",
       "      <th>...</th>\n",
       "      <th>Risk_Family_History_Of_Osteoporosis</th>\n",
       "      <th>Risk_Low_Calcium_Intake</th>\n",
       "      <th>Risk_Vitamin_D_Insufficiency</th>\n",
       "      <th>Risk_Poor_Health_Frailty</th>\n",
       "      <th>Risk_Excessive_Thinness</th>\n",
       "      <th>Risk_Hysterectomy_Oophorectomy</th>\n",
       "      <th>Risk_Estrogen_Deficiency</th>\n",
       "      <th>Risk_Immobilization</th>\n",
       "      <th>Risk_Recurring_Falls</th>\n",
       "      <th>Count_Of_Risks</th>\n",
       "    </tr>\n",
       "  </thead>\n",
       "  <tbody>\n",
       "    <tr>\n",
       "      <th>0</th>\n",
       "      <td>0</td>\n",
       "      <td>1</td>\n",
       "      <td>2</td>\n",
       "      <td>1</td>\n",
       "      <td>4</td>\n",
       "      <td>3</td>\n",
       "      <td>5</td>\n",
       "      <td>0</td>\n",
       "      <td>1</td>\n",
       "      <td>0</td>\n",
       "      <td>...</td>\n",
       "      <td>0</td>\n",
       "      <td>0</td>\n",
       "      <td>0</td>\n",
       "      <td>0</td>\n",
       "      <td>0</td>\n",
       "      <td>0</td>\n",
       "      <td>0</td>\n",
       "      <td>0</td>\n",
       "      <td>0</td>\n",
       "      <td>0</td>\n",
       "    </tr>\n",
       "    <tr>\n",
       "      <th>1</th>\n",
       "      <td>1111</td>\n",
       "      <td>1</td>\n",
       "      <td>1</td>\n",
       "      <td>1</td>\n",
       "      <td>4</td>\n",
       "      <td>0</td>\n",
       "      <td>5</td>\n",
       "      <td>0</td>\n",
       "      <td>1</td>\n",
       "      <td>0</td>\n",
       "      <td>...</td>\n",
       "      <td>0</td>\n",
       "      <td>0</td>\n",
       "      <td>0</td>\n",
       "      <td>0</td>\n",
       "      <td>0</td>\n",
       "      <td>0</td>\n",
       "      <td>0</td>\n",
       "      <td>0</td>\n",
       "      <td>0</td>\n",
       "      <td>0</td>\n",
       "    </tr>\n",
       "    <tr>\n",
       "      <th>2</th>\n",
       "      <td>2222</td>\n",
       "      <td>0</td>\n",
       "      <td>3</td>\n",
       "      <td>0</td>\n",
       "      <td>0</td>\n",
       "      <td>1</td>\n",
       "      <td>5</td>\n",
       "      <td>0</td>\n",
       "      <td>1</td>\n",
       "      <td>0</td>\n",
       "      <td>...</td>\n",
       "      <td>0</td>\n",
       "      <td>1</td>\n",
       "      <td>0</td>\n",
       "      <td>0</td>\n",
       "      <td>0</td>\n",
       "      <td>0</td>\n",
       "      <td>0</td>\n",
       "      <td>0</td>\n",
       "      <td>0</td>\n",
       "      <td>2</td>\n",
       "    </tr>\n",
       "    <tr>\n",
       "      <th>3</th>\n",
       "      <td>2758</td>\n",
       "      <td>0</td>\n",
       "      <td>2</td>\n",
       "      <td>1</td>\n",
       "      <td>0</td>\n",
       "      <td>3</td>\n",
       "      <td>5</td>\n",
       "      <td>0</td>\n",
       "      <td>1</td>\n",
       "      <td>0</td>\n",
       "      <td>...</td>\n",
       "      <td>0</td>\n",
       "      <td>0</td>\n",
       "      <td>0</td>\n",
       "      <td>0</td>\n",
       "      <td>0</td>\n",
       "      <td>0</td>\n",
       "      <td>0</td>\n",
       "      <td>0</td>\n",
       "      <td>0</td>\n",
       "      <td>1</td>\n",
       "    </tr>\n",
       "    <tr>\n",
       "      <th>4</th>\n",
       "      <td>2869</td>\n",
       "      <td>0</td>\n",
       "      <td>2</td>\n",
       "      <td>1</td>\n",
       "      <td>0</td>\n",
       "      <td>3</td>\n",
       "      <td>5</td>\n",
       "      <td>0</td>\n",
       "      <td>1</td>\n",
       "      <td>1</td>\n",
       "      <td>...</td>\n",
       "      <td>0</td>\n",
       "      <td>0</td>\n",
       "      <td>0</td>\n",
       "      <td>0</td>\n",
       "      <td>0</td>\n",
       "      <td>0</td>\n",
       "      <td>0</td>\n",
       "      <td>0</td>\n",
       "      <td>0</td>\n",
       "      <td>1</td>\n",
       "    </tr>\n",
       "    <tr>\n",
       "      <th>5</th>\n",
       "      <td>2980</td>\n",
       "      <td>0</td>\n",
       "      <td>2</td>\n",
       "      <td>1</td>\n",
       "      <td>0</td>\n",
       "      <td>3</td>\n",
       "      <td>5</td>\n",
       "      <td>0</td>\n",
       "      <td>1</td>\n",
       "      <td>0</td>\n",
       "      <td>...</td>\n",
       "      <td>1</td>\n",
       "      <td>0</td>\n",
       "      <td>0</td>\n",
       "      <td>0</td>\n",
       "      <td>0</td>\n",
       "      <td>0</td>\n",
       "      <td>0</td>\n",
       "      <td>0</td>\n",
       "      <td>0</td>\n",
       "      <td>2</td>\n",
       "    </tr>\n",
       "    <tr>\n",
       "      <th>6</th>\n",
       "      <td>3091</td>\n",
       "      <td>0</td>\n",
       "      <td>2</td>\n",
       "      <td>1</td>\n",
       "      <td>0</td>\n",
       "      <td>3</td>\n",
       "      <td>5</td>\n",
       "      <td>0</td>\n",
       "      <td>1</td>\n",
       "      <td>0</td>\n",
       "      <td>...</td>\n",
       "      <td>0</td>\n",
       "      <td>0</td>\n",
       "      <td>0</td>\n",
       "      <td>0</td>\n",
       "      <td>0</td>\n",
       "      <td>0</td>\n",
       "      <td>0</td>\n",
       "      <td>0</td>\n",
       "      <td>0</td>\n",
       "      <td>1</td>\n",
       "    </tr>\n",
       "    <tr>\n",
       "      <th>7</th>\n",
       "      <td>3202</td>\n",
       "      <td>0</td>\n",
       "      <td>2</td>\n",
       "      <td>1</td>\n",
       "      <td>0</td>\n",
       "      <td>3</td>\n",
       "      <td>5</td>\n",
       "      <td>0</td>\n",
       "      <td>1</td>\n",
       "      <td>1</td>\n",
       "      <td>...</td>\n",
       "      <td>0</td>\n",
       "      <td>0</td>\n",
       "      <td>0</td>\n",
       "      <td>0</td>\n",
       "      <td>0</td>\n",
       "      <td>0</td>\n",
       "      <td>0</td>\n",
       "      <td>0</td>\n",
       "      <td>0</td>\n",
       "      <td>1</td>\n",
       "    </tr>\n",
       "    <tr>\n",
       "      <th>8</th>\n",
       "      <td>3313</td>\n",
       "      <td>0</td>\n",
       "      <td>2</td>\n",
       "      <td>1</td>\n",
       "      <td>0</td>\n",
       "      <td>3</td>\n",
       "      <td>5</td>\n",
       "      <td>0</td>\n",
       "      <td>1</td>\n",
       "      <td>0</td>\n",
       "      <td>...</td>\n",
       "      <td>1</td>\n",
       "      <td>0</td>\n",
       "      <td>0</td>\n",
       "      <td>0</td>\n",
       "      <td>0</td>\n",
       "      <td>0</td>\n",
       "      <td>0</td>\n",
       "      <td>0</td>\n",
       "      <td>0</td>\n",
       "      <td>1</td>\n",
       "    </tr>\n",
       "    <tr>\n",
       "      <th>9</th>\n",
       "      <td>1</td>\n",
       "      <td>0</td>\n",
       "      <td>2</td>\n",
       "      <td>1</td>\n",
       "      <td>0</td>\n",
       "      <td>3</td>\n",
       "      <td>5</td>\n",
       "      <td>0</td>\n",
       "      <td>1</td>\n",
       "      <td>0</td>\n",
       "      <td>...</td>\n",
       "      <td>0</td>\n",
       "      <td>0</td>\n",
       "      <td>0</td>\n",
       "      <td>0</td>\n",
       "      <td>0</td>\n",
       "      <td>0</td>\n",
       "      <td>0</td>\n",
       "      <td>0</td>\n",
       "      <td>0</td>\n",
       "      <td>1</td>\n",
       "    </tr>\n",
       "  </tbody>\n",
       "</table>\n",
       "<p>10 rows × 68 columns</p>\n",
       "</div>"
      ],
      "text/plain": [
       "   Ptid  Gender  Race  Ethnicity  Region  Age_Bucket  Ntm_Speciality  \\\n",
       "0     0       1     2          1       4           3               5   \n",
       "1  1111       1     1          1       4           0               5   \n",
       "2  2222       0     3          0       0           1               5   \n",
       "3  2758       0     2          1       0           3               5   \n",
       "4  2869       0     2          1       0           3               5   \n",
       "5  2980       0     2          1       0           3               5   \n",
       "6  3091       0     2          1       0           3               5   \n",
       "7  3202       0     2          1       0           3               5   \n",
       "8  3313       0     2          1       0           3               5   \n",
       "9     1       0     2          1       0           3               5   \n",
       "\n",
       "   Ntm_Specialist_Flag  Ntm_Speciality_Bucket  Gluco_Record_Prior_Ntm  ...  \\\n",
       "0                    0                      1                       0  ...   \n",
       "1                    0                      1                       0  ...   \n",
       "2                    0                      1                       0  ...   \n",
       "3                    0                      1                       0  ...   \n",
       "4                    0                      1                       1  ...   \n",
       "5                    0                      1                       0  ...   \n",
       "6                    0                      1                       0  ...   \n",
       "7                    0                      1                       1  ...   \n",
       "8                    0                      1                       0  ...   \n",
       "9                    0                      1                       0  ...   \n",
       "\n",
       "   Risk_Family_History_Of_Osteoporosis  Risk_Low_Calcium_Intake  \\\n",
       "0                                    0                        0   \n",
       "1                                    0                        0   \n",
       "2                                    0                        1   \n",
       "3                                    0                        0   \n",
       "4                                    0                        0   \n",
       "5                                    1                        0   \n",
       "6                                    0                        0   \n",
       "7                                    0                        0   \n",
       "8                                    1                        0   \n",
       "9                                    0                        0   \n",
       "\n",
       "   Risk_Vitamin_D_Insufficiency  Risk_Poor_Health_Frailty  \\\n",
       "0                             0                         0   \n",
       "1                             0                         0   \n",
       "2                             0                         0   \n",
       "3                             0                         0   \n",
       "4                             0                         0   \n",
       "5                             0                         0   \n",
       "6                             0                         0   \n",
       "7                             0                         0   \n",
       "8                             0                         0   \n",
       "9                             0                         0   \n",
       "\n",
       "   Risk_Excessive_Thinness  Risk_Hysterectomy_Oophorectomy  \\\n",
       "0                        0                               0   \n",
       "1                        0                               0   \n",
       "2                        0                               0   \n",
       "3                        0                               0   \n",
       "4                        0                               0   \n",
       "5                        0                               0   \n",
       "6                        0                               0   \n",
       "7                        0                               0   \n",
       "8                        0                               0   \n",
       "9                        0                               0   \n",
       "\n",
       "   Risk_Estrogen_Deficiency  Risk_Immobilization  Risk_Recurring_Falls  \\\n",
       "0                         0                    0                     0   \n",
       "1                         0                    0                     0   \n",
       "2                         0                    0                     0   \n",
       "3                         0                    0                     0   \n",
       "4                         0                    0                     0   \n",
       "5                         0                    0                     0   \n",
       "6                         0                    0                     0   \n",
       "7                         0                    0                     0   \n",
       "8                         0                    0                     0   \n",
       "9                         0                    0                     0   \n",
       "\n",
       "   Count_Of_Risks  \n",
       "0               0  \n",
       "1               0  \n",
       "2               2  \n",
       "3               1  \n",
       "4               1  \n",
       "5               2  \n",
       "6               1  \n",
       "7               1  \n",
       "8               1  \n",
       "9               1  \n",
       "\n",
       "[10 rows x 68 columns]"
      ]
     },
     "execution_count": 37,
     "metadata": {},
     "output_type": "execute_result"
    }
   ],
   "source": [
    "New_df.head(10)"
   ]
  },
  {
   "cell_type": "code",
   "execution_count": 38,
   "id": "8d9f130c",
   "metadata": {},
   "outputs": [
    {
     "data": {
      "text/html": [
       "<div>\n",
       "<style scoped>\n",
       "    .dataframe tbody tr th:only-of-type {\n",
       "        vertical-align: middle;\n",
       "    }\n",
       "\n",
       "    .dataframe tbody tr th {\n",
       "        vertical-align: top;\n",
       "    }\n",
       "\n",
       "    .dataframe thead th {\n",
       "        text-align: right;\n",
       "    }\n",
       "</style>\n",
       "<table border=\"1\" class=\"dataframe\">\n",
       "  <thead>\n",
       "    <tr style=\"text-align: right;\">\n",
       "      <th></th>\n",
       "      <th>Ptid</th>\n",
       "      <th>Gender</th>\n",
       "      <th>Race</th>\n",
       "      <th>Ethnicity</th>\n",
       "      <th>Region</th>\n",
       "      <th>Age_Bucket</th>\n",
       "      <th>Ntm_Speciality</th>\n",
       "      <th>Ntm_Specialist_Flag</th>\n",
       "      <th>Ntm_Speciality_Bucket</th>\n",
       "      <th>Gluco_Record_Prior_Ntm</th>\n",
       "      <th>...</th>\n",
       "      <th>Risk_Family_History_Of_Osteoporosis</th>\n",
       "      <th>Risk_Low_Calcium_Intake</th>\n",
       "      <th>Risk_Vitamin_D_Insufficiency</th>\n",
       "      <th>Risk_Poor_Health_Frailty</th>\n",
       "      <th>Risk_Excessive_Thinness</th>\n",
       "      <th>Risk_Hysterectomy_Oophorectomy</th>\n",
       "      <th>Risk_Estrogen_Deficiency</th>\n",
       "      <th>Risk_Immobilization</th>\n",
       "      <th>Risk_Recurring_Falls</th>\n",
       "      <th>Count_Of_Risks</th>\n",
       "    </tr>\n",
       "  </thead>\n",
       "  <tbody>\n",
       "    <tr>\n",
       "      <th>3414</th>\n",
       "      <td>2685</td>\n",
       "      <td>0</td>\n",
       "      <td>2</td>\n",
       "      <td>1</td>\n",
       "      <td>3</td>\n",
       "      <td>3</td>\n",
       "      <td>5</td>\n",
       "      <td>0</td>\n",
       "      <td>1</td>\n",
       "      <td>1</td>\n",
       "      <td>...</td>\n",
       "      <td>0</td>\n",
       "      <td>0</td>\n",
       "      <td>0</td>\n",
       "      <td>0</td>\n",
       "      <td>0</td>\n",
       "      <td>0</td>\n",
       "      <td>0</td>\n",
       "      <td>0</td>\n",
       "      <td>0</td>\n",
       "      <td>0</td>\n",
       "    </tr>\n",
       "    <tr>\n",
       "      <th>3415</th>\n",
       "      <td>2686</td>\n",
       "      <td>0</td>\n",
       "      <td>2</td>\n",
       "      <td>1</td>\n",
       "      <td>3</td>\n",
       "      <td>3</td>\n",
       "      <td>19</td>\n",
       "      <td>0</td>\n",
       "      <td>1</td>\n",
       "      <td>0</td>\n",
       "      <td>...</td>\n",
       "      <td>0</td>\n",
       "      <td>0</td>\n",
       "      <td>0</td>\n",
       "      <td>1</td>\n",
       "      <td>0</td>\n",
       "      <td>0</td>\n",
       "      <td>0</td>\n",
       "      <td>0</td>\n",
       "      <td>0</td>\n",
       "      <td>1</td>\n",
       "    </tr>\n",
       "    <tr>\n",
       "      <th>3416</th>\n",
       "      <td>2687</td>\n",
       "      <td>0</td>\n",
       "      <td>2</td>\n",
       "      <td>1</td>\n",
       "      <td>3</td>\n",
       "      <td>3</td>\n",
       "      <td>5</td>\n",
       "      <td>0</td>\n",
       "      <td>1</td>\n",
       "      <td>0</td>\n",
       "      <td>...</td>\n",
       "      <td>0</td>\n",
       "      <td>0</td>\n",
       "      <td>0</td>\n",
       "      <td>0</td>\n",
       "      <td>0</td>\n",
       "      <td>0</td>\n",
       "      <td>0</td>\n",
       "      <td>0</td>\n",
       "      <td>0</td>\n",
       "      <td>2</td>\n",
       "    </tr>\n",
       "    <tr>\n",
       "      <th>3417</th>\n",
       "      <td>2688</td>\n",
       "      <td>0</td>\n",
       "      <td>2</td>\n",
       "      <td>1</td>\n",
       "      <td>3</td>\n",
       "      <td>0</td>\n",
       "      <td>34</td>\n",
       "      <td>0</td>\n",
       "      <td>1</td>\n",
       "      <td>0</td>\n",
       "      <td>...</td>\n",
       "      <td>0</td>\n",
       "      <td>0</td>\n",
       "      <td>1</td>\n",
       "      <td>0</td>\n",
       "      <td>0</td>\n",
       "      <td>0</td>\n",
       "      <td>0</td>\n",
       "      <td>0</td>\n",
       "      <td>0</td>\n",
       "      <td>1</td>\n",
       "    </tr>\n",
       "    <tr>\n",
       "      <th>3418</th>\n",
       "      <td>2689</td>\n",
       "      <td>0</td>\n",
       "      <td>2</td>\n",
       "      <td>1</td>\n",
       "      <td>3</td>\n",
       "      <td>1</td>\n",
       "      <td>34</td>\n",
       "      <td>0</td>\n",
       "      <td>1</td>\n",
       "      <td>1</td>\n",
       "      <td>...</td>\n",
       "      <td>0</td>\n",
       "      <td>0</td>\n",
       "      <td>1</td>\n",
       "      <td>0</td>\n",
       "      <td>0</td>\n",
       "      <td>0</td>\n",
       "      <td>0</td>\n",
       "      <td>0</td>\n",
       "      <td>0</td>\n",
       "      <td>1</td>\n",
       "    </tr>\n",
       "    <tr>\n",
       "      <th>3419</th>\n",
       "      <td>2691</td>\n",
       "      <td>0</td>\n",
       "      <td>2</td>\n",
       "      <td>1</td>\n",
       "      <td>3</td>\n",
       "      <td>3</td>\n",
       "      <td>5</td>\n",
       "      <td>0</td>\n",
       "      <td>1</td>\n",
       "      <td>0</td>\n",
       "      <td>...</td>\n",
       "      <td>0</td>\n",
       "      <td>0</td>\n",
       "      <td>1</td>\n",
       "      <td>0</td>\n",
       "      <td>0</td>\n",
       "      <td>0</td>\n",
       "      <td>0</td>\n",
       "      <td>0</td>\n",
       "      <td>0</td>\n",
       "      <td>1</td>\n",
       "    </tr>\n",
       "    <tr>\n",
       "      <th>3420</th>\n",
       "      <td>2692</td>\n",
       "      <td>0</td>\n",
       "      <td>2</td>\n",
       "      <td>1</td>\n",
       "      <td>3</td>\n",
       "      <td>3</td>\n",
       "      <td>34</td>\n",
       "      <td>0</td>\n",
       "      <td>1</td>\n",
       "      <td>0</td>\n",
       "      <td>...</td>\n",
       "      <td>0</td>\n",
       "      <td>0</td>\n",
       "      <td>0</td>\n",
       "      <td>0</td>\n",
       "      <td>0</td>\n",
       "      <td>0</td>\n",
       "      <td>0</td>\n",
       "      <td>0</td>\n",
       "      <td>0</td>\n",
       "      <td>0</td>\n",
       "    </tr>\n",
       "    <tr>\n",
       "      <th>3421</th>\n",
       "      <td>2693</td>\n",
       "      <td>0</td>\n",
       "      <td>2</td>\n",
       "      <td>1</td>\n",
       "      <td>3</td>\n",
       "      <td>3</td>\n",
       "      <td>3</td>\n",
       "      <td>1</td>\n",
       "      <td>0</td>\n",
       "      <td>0</td>\n",
       "      <td>...</td>\n",
       "      <td>0</td>\n",
       "      <td>0</td>\n",
       "      <td>1</td>\n",
       "      <td>0</td>\n",
       "      <td>0</td>\n",
       "      <td>0</td>\n",
       "      <td>0</td>\n",
       "      <td>0</td>\n",
       "      <td>0</td>\n",
       "      <td>1</td>\n",
       "    </tr>\n",
       "    <tr>\n",
       "      <th>3422</th>\n",
       "      <td>2694</td>\n",
       "      <td>0</td>\n",
       "      <td>2</td>\n",
       "      <td>1</td>\n",
       "      <td>3</td>\n",
       "      <td>0</td>\n",
       "      <td>34</td>\n",
       "      <td>0</td>\n",
       "      <td>1</td>\n",
       "      <td>0</td>\n",
       "      <td>...</td>\n",
       "      <td>0</td>\n",
       "      <td>0</td>\n",
       "      <td>0</td>\n",
       "      <td>0</td>\n",
       "      <td>0</td>\n",
       "      <td>0</td>\n",
       "      <td>0</td>\n",
       "      <td>0</td>\n",
       "      <td>0</td>\n",
       "      <td>0</td>\n",
       "    </tr>\n",
       "    <tr>\n",
       "      <th>3423</th>\n",
       "      <td>2695</td>\n",
       "      <td>0</td>\n",
       "      <td>2</td>\n",
       "      <td>1</td>\n",
       "      <td>3</td>\n",
       "      <td>1</td>\n",
       "      <td>34</td>\n",
       "      <td>0</td>\n",
       "      <td>1</td>\n",
       "      <td>1</td>\n",
       "      <td>...</td>\n",
       "      <td>0</td>\n",
       "      <td>0</td>\n",
       "      <td>1</td>\n",
       "      <td>0</td>\n",
       "      <td>0</td>\n",
       "      <td>0</td>\n",
       "      <td>0</td>\n",
       "      <td>0</td>\n",
       "      <td>0</td>\n",
       "      <td>1</td>\n",
       "    </tr>\n",
       "  </tbody>\n",
       "</table>\n",
       "<p>10 rows × 68 columns</p>\n",
       "</div>"
      ],
      "text/plain": [
       "      Ptid  Gender  Race  Ethnicity  Region  Age_Bucket  Ntm_Speciality  \\\n",
       "3414  2685       0     2          1       3           3               5   \n",
       "3415  2686       0     2          1       3           3              19   \n",
       "3416  2687       0     2          1       3           3               5   \n",
       "3417  2688       0     2          1       3           0              34   \n",
       "3418  2689       0     2          1       3           1              34   \n",
       "3419  2691       0     2          1       3           3               5   \n",
       "3420  2692       0     2          1       3           3              34   \n",
       "3421  2693       0     2          1       3           3               3   \n",
       "3422  2694       0     2          1       3           0              34   \n",
       "3423  2695       0     2          1       3           1              34   \n",
       "\n",
       "      Ntm_Specialist_Flag  Ntm_Speciality_Bucket  Gluco_Record_Prior_Ntm  ...  \\\n",
       "3414                    0                      1                       1  ...   \n",
       "3415                    0                      1                       0  ...   \n",
       "3416                    0                      1                       0  ...   \n",
       "3417                    0                      1                       0  ...   \n",
       "3418                    0                      1                       1  ...   \n",
       "3419                    0                      1                       0  ...   \n",
       "3420                    0                      1                       0  ...   \n",
       "3421                    1                      0                       0  ...   \n",
       "3422                    0                      1                       0  ...   \n",
       "3423                    0                      1                       1  ...   \n",
       "\n",
       "      Risk_Family_History_Of_Osteoporosis  Risk_Low_Calcium_Intake  \\\n",
       "3414                                    0                        0   \n",
       "3415                                    0                        0   \n",
       "3416                                    0                        0   \n",
       "3417                                    0                        0   \n",
       "3418                                    0                        0   \n",
       "3419                                    0                        0   \n",
       "3420                                    0                        0   \n",
       "3421                                    0                        0   \n",
       "3422                                    0                        0   \n",
       "3423                                    0                        0   \n",
       "\n",
       "      Risk_Vitamin_D_Insufficiency  Risk_Poor_Health_Frailty  \\\n",
       "3414                             0                         0   \n",
       "3415                             0                         1   \n",
       "3416                             0                         0   \n",
       "3417                             1                         0   \n",
       "3418                             1                         0   \n",
       "3419                             1                         0   \n",
       "3420                             0                         0   \n",
       "3421                             1                         0   \n",
       "3422                             0                         0   \n",
       "3423                             1                         0   \n",
       "\n",
       "      Risk_Excessive_Thinness  Risk_Hysterectomy_Oophorectomy  \\\n",
       "3414                        0                               0   \n",
       "3415                        0                               0   \n",
       "3416                        0                               0   \n",
       "3417                        0                               0   \n",
       "3418                        0                               0   \n",
       "3419                        0                               0   \n",
       "3420                        0                               0   \n",
       "3421                        0                               0   \n",
       "3422                        0                               0   \n",
       "3423                        0                               0   \n",
       "\n",
       "      Risk_Estrogen_Deficiency  Risk_Immobilization  Risk_Recurring_Falls  \\\n",
       "3414                         0                    0                     0   \n",
       "3415                         0                    0                     0   \n",
       "3416                         0                    0                     0   \n",
       "3417                         0                    0                     0   \n",
       "3418                         0                    0                     0   \n",
       "3419                         0                    0                     0   \n",
       "3420                         0                    0                     0   \n",
       "3421                         0                    0                     0   \n",
       "3422                         0                    0                     0   \n",
       "3423                         0                    0                     0   \n",
       "\n",
       "      Count_Of_Risks  \n",
       "3414               0  \n",
       "3415               1  \n",
       "3416               2  \n",
       "3417               1  \n",
       "3418               1  \n",
       "3419               1  \n",
       "3420               0  \n",
       "3421               1  \n",
       "3422               0  \n",
       "3423               1  \n",
       "\n",
       "[10 rows x 68 columns]"
      ]
     },
     "execution_count": 38,
     "metadata": {},
     "output_type": "execute_result"
    }
   ],
   "source": [
    "New_df.tail(10)"
   ]
  },
  {
   "cell_type": "code",
   "execution_count": 40,
   "id": "75908e81",
   "metadata": {},
   "outputs": [
    {
     "data": {
      "text/plain": [
       "3424"
      ]
     },
     "execution_count": 40,
     "metadata": {},
     "output_type": "execute_result"
    }
   ],
   "source": [
    "New_df['Ptid'].nunique()\n",
    "\n",
    "\n"
   ]
  },
  {
   "cell_type": "markdown",
   "id": "7021d84f",
   "metadata": {},
   "source": [
    "All values are unique"
   ]
  },
  {
   "cell_type": "markdown",
   "id": "2013bf1c",
   "metadata": {},
   "source": [
    "# BUILDING ML CLASSIFICATION MODELS"
   ]
  },
  {
   "cell_type": "markdown",
   "id": "8401b85d",
   "metadata": {},
   "source": [
    "# Splitting of data into Training and Testing dataset for ML Models"
   ]
  },
  {
   "cell_type": "code",
   "execution_count": 41,
   "id": "9fe929a9",
   "metadata": {},
   "outputs": [],
   "source": [
    "##Important packages importing\n",
    "from sklearn.linear_model import LogisticRegression\n",
    "from sklearn.model_selection import train_test_split\n",
    "from sklearn.metrics import roc_curve, roc_auc_score\n",
    "from matplotlib import pyplot\n",
    "from sklearn.metrics import classification_report, confusion_matrix"
   ]
  },
  {
   "cell_type": "code",
   "execution_count": 68,
   "id": "28d09e3d",
   "metadata": {},
   "outputs": [],
   "source": [
    "train_X, test_X, train_y, test_y = train_test_split(New_df, target, test_size=0.3, random_state=42)"
   ]
  },
  {
   "cell_type": "markdown",
   "id": "eaafa75e",
   "metadata": {},
   "source": [
    "# Hypothesis Testing for Classification Models"
   ]
  },
  {
   "cell_type": "markdown",
   "id": "2cac6d41",
   "metadata": {},
   "source": [
    "# STEPS:"
   ]
  },
  {
   "cell_type": "markdown",
   "id": "8ce106fa",
   "metadata": {},
   "source": [
    "The first step would be to to state the null hypothesis statement."
   ]
  },
  {
   "cell_type": "markdown",
   "id": "552fc84f",
   "metadata": {},
   "source": [
    "H0: Both models have the same performance on the dataset."
   ]
  },
  {
   "cell_type": "markdown",
   "id": "51643a33",
   "metadata": {},
   "source": [
    "H1: Both models doesn’t have the same performance on the dataset."
   ]
  },
  {
   "cell_type": "markdown",
   "id": "f7fc86e8",
   "metadata": {},
   "source": [
    "Level of significance is 0.05 "
   ]
  },
  {
   "cell_type": "markdown",
   "id": "d70874bb",
   "metadata": {},
   "source": [
    "# Logistic Regression Model"
   ]
  },
  {
   "cell_type": "code",
   "execution_count": 69,
   "id": "3b0d4760",
   "metadata": {},
   "outputs": [
    {
     "data": {
      "text/plain": [
       "LogisticRegression(solver='newton-cg')"
      ]
     },
     "execution_count": 69,
     "metadata": {},
     "output_type": "execute_result"
    }
   ],
   "source": [
    "# Logistic Regression\n",
    "# fit a model\n",
    "model = LogisticRegression(solver='newton-cg')#, max_iter=3000, penalty='elasticnet',l1_ratio=1)\n",
    "model.fit(train_X, train_y)"
   ]
  },
  {
   "cell_type": "code",
   "execution_count": 70,
   "id": "46449f79",
   "metadata": {},
   "outputs": [
    {
     "name": "stdout",
     "output_type": "stream",
     "text": [
      "Using Logistic Regression Model- Accuracy on Test Dataset is 81.22568093385215 %\n"
     ]
    }
   ],
   "source": [
    "# Accuracy on Testing Dataset using Logistic Regression\n",
    "score_LR = model.score(test_X, test_y)\n",
    "print(\"Using Logistic Regression Model- Accuracy on Test Dataset is\", score_LR*100, \"%\")"
   ]
  },
  {
   "cell_type": "markdown",
   "id": "6dc69065",
   "metadata": {},
   "source": [
    "# Support Vector Machine Model"
   ]
  },
  {
   "cell_type": "code",
   "execution_count": 71,
   "id": "6a77527a",
   "metadata": {},
   "outputs": [],
   "source": [
    "#Import Library\n",
    "from sklearn import svm\n",
    "import pandas as pd\n",
    "from sklearn.metrics import accuracy_score\n",
    "import warnings\n",
    "warnings.filterwarnings('ignore')"
   ]
  },
  {
   "cell_type": "code",
   "execution_count": 72,
   "id": "6473ee6d",
   "metadata": {},
   "outputs": [
    {
     "name": "stdout",
     "output_type": "stream",
     "text": [
      "Using Support Vector Machine Model- Accuracy on Test Dataset is 74.5136186770428 %\n"
     ]
    }
   ],
   "source": [
    "# Create Linear SVM object\n",
    "support = svm.LinearSVC(random_state=20)\n",
    "\n",
    "# Train the model using the training sets and check score on test dataset\n",
    "support.fit(train_X, train_y)\n",
    "predicted= support.predict(test_X)\n",
    "score=accuracy_score(test_y,predicted)\n",
    "print(\"Using Support Vector Machine Model- Accuracy on Test Dataset is\", score*100, \"%\")"
   ]
  },
  {
   "cell_type": "markdown",
   "id": "96b816d6",
   "metadata": {},
   "source": [
    "# Hyposthesis Results"
   ]
  },
  {
   "cell_type": "markdown",
   "id": "a3df4d5f",
   "metadata": {},
   "source": [
    "It is clear that the accuracy of Logistic Regression Model is much better as compared to support vector machine on same dataset. "
   ]
  },
  {
   "cell_type": "code",
   "execution_count": 74,
   "id": "40625350",
   "metadata": {},
   "outputs": [
    {
     "name": "stdout",
     "output_type": "stream",
     "text": [
      "Defaulting to user installation because normal site-packages is not writeable\n",
      "Collecting mlxtend\n",
      "  Downloading mlxtend-0.22.0-py2.py3-none-any.whl (1.4 MB)\n",
      "     ---------------------------------------- 1.4/1.4 MB 5.0 MB/s eta 0:00:00\n",
      "Requirement already satisfied: scipy>=1.2.1 in c:\\programdata\\anaconda3\\lib\\site-packages (from mlxtend) (1.9.1)\n",
      "Requirement already satisfied: pandas>=0.24.2 in c:\\programdata\\anaconda3\\lib\\site-packages (from mlxtend) (1.4.4)\n",
      "Requirement already satisfied: scikit-learn>=1.0.2 in c:\\programdata\\anaconda3\\lib\\site-packages (from mlxtend) (1.0.2)\n",
      "Requirement already satisfied: numpy>=1.16.2 in c:\\programdata\\anaconda3\\lib\\site-packages (from mlxtend) (1.21.5)\n",
      "Requirement already satisfied: setuptools in c:\\programdata\\anaconda3\\lib\\site-packages (from mlxtend) (63.4.1)\n",
      "Requirement already satisfied: matplotlib>=3.0.0 in c:\\programdata\\anaconda3\\lib\\site-packages (from mlxtend) (3.5.2)\n",
      "Requirement already satisfied: joblib>=0.13.2 in c:\\programdata\\anaconda3\\lib\\site-packages (from mlxtend) (1.1.0)\n",
      "Requirement already satisfied: packaging>=20.0 in c:\\programdata\\anaconda3\\lib\\site-packages (from matplotlib>=3.0.0->mlxtend) (21.3)\n",
      "Requirement already satisfied: cycler>=0.10 in c:\\programdata\\anaconda3\\lib\\site-packages (from matplotlib>=3.0.0->mlxtend) (0.11.0)\n",
      "Requirement already satisfied: fonttools>=4.22.0 in c:\\programdata\\anaconda3\\lib\\site-packages (from matplotlib>=3.0.0->mlxtend) (4.25.0)\n",
      "Requirement already satisfied: python-dateutil>=2.7 in c:\\programdata\\anaconda3\\lib\\site-packages (from matplotlib>=3.0.0->mlxtend) (2.8.2)\n",
      "Requirement already satisfied: kiwisolver>=1.0.1 in c:\\programdata\\anaconda3\\lib\\site-packages (from matplotlib>=3.0.0->mlxtend) (1.4.2)\n",
      "Requirement already satisfied: pyparsing>=2.2.1 in c:\\programdata\\anaconda3\\lib\\site-packages (from matplotlib>=3.0.0->mlxtend) (3.0.9)\n",
      "Requirement already satisfied: pillow>=6.2.0 in c:\\programdata\\anaconda3\\lib\\site-packages (from matplotlib>=3.0.0->mlxtend) (9.2.0)\n",
      "Requirement already satisfied: pytz>=2020.1 in c:\\users\\user\\appdata\\roaming\\python\\python39\\site-packages (from pandas>=0.24.2->mlxtend) (2023.3)\n",
      "Requirement already satisfied: threadpoolctl>=2.0.0 in c:\\programdata\\anaconda3\\lib\\site-packages (from scikit-learn>=1.0.2->mlxtend) (2.2.0)\n",
      "Requirement already satisfied: six>=1.5 in c:\\programdata\\anaconda3\\lib\\site-packages (from python-dateutil>=2.7->matplotlib>=3.0.0->mlxtend) (1.16.0)\n",
      "Installing collected packages: mlxtend\n",
      "Successfully installed mlxtend-0.22.0\n",
      "Note: you may need to restart the kernel to use updated packages.\n"
     ]
    }
   ],
   "source": [
    "pip install mlxtend"
   ]
  },
  {
   "cell_type": "code",
   "execution_count": 75,
   "id": "27e302af",
   "metadata": {},
   "outputs": [
    {
     "name": "stdout",
     "output_type": "stream",
     "text": [
      "The P-value is = 0.307\n",
      "The t-statistics is = 1.136\n",
      "Since p>0.05, we cannot reject the null hypothesis.     \n",
      "We may conclude that the performance of the two algorithms is not significantly different.\n"
     ]
    }
   ],
   "source": [
    "from mlxtend.evaluate import paired_ttest_5x2cv\n",
    "# check if difference between algorithms is real\n",
    "t, p = paired_ttest_5x2cv(estimator1=model, \n",
    "                          estimator2=support, \n",
    "                          X=New_dataF, \n",
    "                          y=target, \n",
    "                          scoring='accuracy', \n",
    "                          random_seed=1)\n",
    "# summarize\n",
    "print(f'The P-value is = {p:.3f}')\n",
    "print(f'The t-statistics is = {t:.3f}')\n",
    "# interpret the result\n",
    "if p <= 0.05:\n",
    "    print('Since p<0.05, We can reject the null-hypothesis that both models perform equally well on this dataset. \\\n",
    "    \\nWe may conclude that the two algorithms are significantly different.')\n",
    "else:\n",
    "    print('Since p>0.05, we cannot reject the null hypothesis. \\\n",
    "    \\nWe may conclude that the performance of the two algorithms is not significantly different.')"
   ]
  },
  {
   "cell_type": "markdown",
   "id": "468892ec",
   "metadata": {},
   "source": [
    "So, here our samples do not provide the enough evidence to conclude that the assume effect exists or does not exist."
   ]
  },
  {
   "cell_type": "markdown",
   "id": "538f9f0e",
   "metadata": {},
   "source": [
    "Here, I choose Logistic Regression over SVM to calculate the all required details based on the Accuracy results of both the models."
   ]
  },
  {
   "cell_type": "markdown",
   "id": "2c58d4eb",
   "metadata": {},
   "source": [
    "# ROC Curve and Area Under Curve"
   ]
  },
  {
   "cell_type": "code",
   "execution_count": 76,
   "id": "e13d81df",
   "metadata": {},
   "outputs": [
    {
     "data": {
      "image/png": "[encoded data removed]",
      "text/plain": [
       "<Figure size 640x480 with 1 Axes>"
      ]
     },
     "metadata": {},
     "output_type": "display_data"
    }
   ],
   "source": [
    "# predict probabilities\n",
    "yhat = model.predict_proba(test_X)\n",
    "\n",
    "# retrieve just the probabilities for the positive class\n",
    "pos_probs = yhat[:, 1]\n",
    "\n",
    "# plot no skill roc curve\n",
    "pyplot.plot([0, 1], [0, 1], linestyle='--', label='No Skill')\n",
    "# calculate roc curve for model\n",
    "fpr, tpr, _ = roc_curve(test_y, pos_probs)\n",
    "# plot model roc curve\n",
    "pyplot.plot(fpr, tpr, marker='.', label='Logistic')\n",
    "# axis labels\n",
    "pyplot.xlabel('False Positive Rate')\n",
    "pyplot.ylabel('True Positive Rate')\n",
    "# show the legend\n",
    "pyplot.legend()\n",
    "# show the plot\n",
    "pyplot.show()"
   ]
  },
  {
   "cell_type": "code",
   "execution_count": 77,
   "id": "3cc56159",
   "metadata": {},
   "outputs": [
    {
     "name": "stdout",
     "output_type": "stream",
     "text": [
      "Logistic ROC Area Under Curve 0.882\n"
     ]
    }
   ],
   "source": [
    "#Calculating ROC Area Under Curve\n",
    "yhat = model.predict_proba(test_X)\n",
    "pos_probs = yhat[:, 1]\n",
    "roc_auc = roc_auc_score(test_y, pos_probs)\n",
    "print('Logistic ROC Area Under Curve %.3f' % roc_auc)"
   ]
  },
  {
   "cell_type": "markdown",
   "id": "531980d6",
   "metadata": {},
   "source": [
    "The logistic regression model achieved an AUC of 0.882. An AUC value of 0.882 indicates that the model has good discriminative power and performs better than a random classifier (which would have an AUC of 0.5). Generally, an AUC value between 0.7 and 0.9 is considered good, suggesting that the model has a reasonable ability to distinguish between the two classes - Class \"1\" is Persistent & Class \"0\" is Non-Persistent"
   ]
  },
  {
   "cell_type": "markdown",
   "id": "7a67d42a",
   "metadata": {},
   "source": [
    "# Coefficients of variables"
   ]
  },
  {
   "cell_type": "code",
   "execution_count": 78,
   "id": "bf53bbbf",
   "metadata": {},
   "outputs": [
    {
     "name": "stdout",
     "output_type": "stream",
     "text": [
      "Coefficients of all variables :  [[-1.16875930e-04  2.62308514e-01 -5.27352191e-02  2.95017339e-01\n",
      "   1.63444650e-01  9.57056425e-02  1.76456780e-02  1.36349327e-01\n",
      "  -2.76161056e-01 -5.02024813e-01  1.12461194e-01  1.98778018e-02\n",
      "   1.72508190e+00 -5.32202570e-01  5.61538159e-01 -2.79224200e-02\n",
      "   1.49371534e-01 -1.19533813e-01 -5.58704961e-02 -2.98322269e-01\n",
      "   3.61345099e-01  3.17734165e-01  3.35950106e-01  2.28738472e-01\n",
      "   6.79430495e-01  4.02469679e-01  7.42313821e-01  8.52453183e-01\n",
      "   3.78081062e-01  2.90797007e-01  1.08560894e+00  3.65607416e-01\n",
      "   4.37612075e-01  7.33430540e-01  1.15976982e-02 -5.00016677e-01\n",
      "   1.06371777e-01  2.91028355e-01 -1.37126965e-01 -4.53948700e-01\n",
      "   6.29002057e-01  1.86458277e-01  4.65553665e-01 -9.71027429e-02\n",
      "   1.49854434e-01  5.55452174e-01  3.40234788e-01  9.30506761e-01\n",
      "  -6.50371323e-01 -2.16628676e-02  1.03953442e-01 -3.35736314e-01\n",
      "   6.71068849e-01  5.20913960e-01  5.07369937e-01  2.46298255e-01\n",
      "   5.20932526e-01  3.11254775e-01 -2.63422663e-01  3.39988888e-01\n",
      "  -2.83393310e-02 -5.84959577e-01 -1.83003674e-01  4.45048721e-01\n",
      "  -1.85197581e-01 -5.74100136e-01 -1.04610863e+00 -2.06072740e-01]]\n"
     ]
    }
   ],
   "source": [
    "print('Coefficients of all variables : ', model.coef_)"
   ]
  },
  {
   "cell_type": "markdown",
   "id": "b83a3306",
   "metadata": {},
   "source": [
    "# Intercept of Model"
   ]
  },
  {
   "cell_type": "code",
   "execution_count": 79,
   "id": "2c3e4871",
   "metadata": {},
   "outputs": [
    {
     "name": "stdout",
     "output_type": "stream",
     "text": [
      "Intercept of the model :  [-3.95975004]\n"
     ]
    }
   ],
   "source": [
    "print('Intercept of the model : ', model.intercept_)"
   ]
  },
  {
   "cell_type": "markdown",
   "id": "2dd37b1a",
   "metadata": {},
   "source": [
    "# Predicted Classes"
   ]
  },
  {
   "cell_type": "code",
   "execution_count": 80,
   "id": "bcaeee79",
   "metadata": {},
   "outputs": [
    {
     "name": "stdout",
     "output_type": "stream",
     "text": [
      "Predicted Classes are :  [0 1]\n"
     ]
    }
   ],
   "source": [
    "print('Predicted Classes are : ', model.classes_)"
   ]
  },
  {
   "cell_type": "code",
   "execution_count": 81,
   "id": "be0c4bdc",
   "metadata": {},
   "outputs": [
    {
     "name": "stdout",
     "output_type": "stream",
     "text": [
      "Predicted probability on training dataset :  [[0.68888909 0.31111091]\n",
      " [0.64442301 0.35557699]\n",
      " [0.00352916 0.99647084]\n",
      " ...\n",
      " [0.28173863 0.71826137]\n",
      " [0.86435227 0.13564773]\n",
      " [0.83243802 0.16756198]]\n"
     ]
    }
   ],
   "source": [
    "print('Predicted probability on training dataset : ', model.predict_proba(train_X))"
   ]
  },
  {
   "cell_type": "code",
   "execution_count": 82,
   "id": "61096bd5",
   "metadata": {},
   "outputs": [
    {
     "name": "stdout",
     "output_type": "stream",
     "text": [
      "Accuracy on Training Dataset :  0.8209515859766278\n"
     ]
    }
   ],
   "source": [
    "#Accuracy on Training Dataset\n",
    "print('Accuracy on Training Dataset : ', model.score(train_X, train_y))"
   ]
  },
  {
   "cell_type": "markdown",
   "id": "3c2f5add",
   "metadata": {},
   "source": [
    "# Confusion Matrix"
   ]
  },
  {
   "cell_type": "code",
   "execution_count": 83,
   "id": "0f4db25e",
   "metadata": {},
   "outputs": [
    {
     "data": {
      "text/plain": [
       "array([[1880,  255],\n",
       "       [ 369,  920]], dtype=int64)"
      ]
     },
     "execution_count": 83,
     "metadata": {},
     "output_type": "execute_result"
    }
   ],
   "source": [
    "confusion_matrix(target, model.predict(New_df))"
   ]
  },
  {
   "cell_type": "markdown",
   "id": "8e589bb4",
   "metadata": {},
   "source": [
    "1) True negatives in the upper-left position"
   ]
  },
  {
   "cell_type": "markdown",
   "id": "77558f89",
   "metadata": {},
   "source": [
    "2) False negatives in the lower-left position"
   ]
  },
  {
   "cell_type": "markdown",
   "id": "307de94e",
   "metadata": {},
   "source": [
    "3) False positives in the upper-right position"
   ]
  },
  {
   "cell_type": "markdown",
   "id": "1c2e7a60",
   "metadata": {},
   "source": [
    "4) True positives in the lower-right position"
   ]
  },
  {
   "cell_type": "code",
   "execution_count": 84,
   "id": "c8f4a894",
   "metadata": {},
   "outputs": [
    {
     "data": {
      "image/png": "[encoded data removed]",
      "text/plain": [
       "<Figure size 800x800 with 1 Axes>"
      ]
     },
     "metadata": {},
     "output_type": "display_data"
    }
   ],
   "source": [
    "cm = confusion_matrix(target, model.predict(New_dataF))\n",
    "fig, ax = plt.subplots(figsize=(8, 8))\n",
    "ax.imshow(cm)\n",
    "ax.grid(False)\n",
    "ax.xaxis.set(ticks=(0, 1), ticklabels=('Predicted Non-Persistent', 'Predicted Persistent'))\n",
    "ax.yaxis.set(ticks=(0, 1), ticklabels=('Actual Non-Persistent', 'Actual Persistent'))\n",
    "ax.set_ylim(1.5, -0.5)\n",
    "for i in range(2):\n",
    "    for j in range(2):\n",
    "        ax.text(j, i, cm[i, j], ha='center', va='center', color='red')\n",
    "plt.show()"
   ]
  },
  {
   "cell_type": "markdown",
   "id": "ba43956b",
   "metadata": {},
   "source": [
    "# Classification Report on Confusion Matrix"
   ]
  },
  {
   "cell_type": "code",
   "execution_count": 85,
   "id": "58667f4b",
   "metadata": {},
   "outputs": [
    {
     "name": "stdout",
     "output_type": "stream",
     "text": [
      "              precision    recall  f1-score   support\n",
      "\n",
      "           0       0.84      0.88      0.86      2135\n",
      "           1       0.78      0.71      0.75      1289\n",
      "\n",
      "    accuracy                           0.82      3424\n",
      "   macro avg       0.81      0.80      0.80      3424\n",
      "weighted avg       0.82      0.82      0.82      3424\n",
      "\n"
     ]
    }
   ],
   "source": [
    "print(classification_report(target, model.predict(New_df)))"
   ]
  },
  {
   "cell_type": "markdown",
   "id": "86d69158",
   "metadata": {},
   "source": [
    "# Based on the provided classification report, we can draw the following conclusions:"
   ]
  },
  {
   "cell_type": "markdown",
   "id": "0027cf6f",
   "metadata": {},
   "source": [
    "Precision: The precision for class 0 is 0.84, which means that among the instances classified as class 0, 84% were actually true class 0. The precision for class 1 is 0.78, which means that among the instances classified as class 1, 78% were actually true class 1."
   ]
  },
  {
   "cell_type": "markdown",
   "id": "1d9a4780",
   "metadata": {},
   "source": [
    "Recall: The recall (also known as sensitivity or true positive rate) for class 0 is 0.88, indicating that the model correctly identified 88% of the true instances of class 0. The recall for class 1 is 0.71, meaning that the model correctly identified 71% of the true instances of class 1."
   ]
  },
  {
   "cell_type": "markdown",
   "id": "3a6e3247",
   "metadata": {},
   "source": [
    "F1-score: The F1-score is a harmonic mean of precision and recall, which balances both metrics. The F1-score for class 0 is 0.86, and for class 1, it is 0.75."
   ]
  },
  {
   "cell_type": "markdown",
   "id": "7c4a6007",
   "metadata": {},
   "source": [
    "Support: The support represents the number of samples in each class. There are 2135 instances of class 0 and 1289 instances of class 1 in the dataset."
   ]
  },
  {
   "cell_type": "markdown",
   "id": "72884878",
   "metadata": {},
   "source": [
    "Accuracy: The overall accuracy of the model is 0.82, which means that 82% of the instances in the dataset were correctly classified by the model."
   ]
  },
  {
   "cell_type": "markdown",
   "id": "caeca840",
   "metadata": {},
   "source": [
    "Macro Average: The macro-average calculates the average of the metrics for each class without considering class imbalances. The macro-averaged precision, recall, and F1-score are 0.81, 0.80, and 0.80, respectively."
   ]
  },
  {
   "cell_type": "markdown",
   "id": "11dc0792",
   "metadata": {},
   "source": [
    "Weighted Average: The weighted average considers the class support and calculates the metrics by weighting each class's score by its proportion in the dataset. The weighted-averaged precision, recall, and F1-score are 0.82, 0.82, and 0.82, respectively."
   ]
  },
  {
   "cell_type": "markdown",
   "id": "952d9d40",
   "metadata": {},
   "source": [
    "# Based on these results:"
   ]
  },
  {
   "cell_type": "markdown",
   "id": "d7f1b9cd",
   "metadata": {},
   "source": [
    "1) The model shows a reasonably good performance with an accuracy of 82%."
   ]
  },
  {
   "cell_type": "markdown",
   "id": "070e3c50",
   "metadata": {},
   "source": [
    "2) Class 0 has higher precision and recall compared to class 1, indicating that the model performs better in identifying instances of class 0."
   ]
  },
  {
   "cell_type": "markdown",
   "id": "8a062059",
   "metadata": {},
   "source": [
    "3) The model has a higher F1-score for class 0 (0.86) than for class 1 (0.75), suggesting that the model's overall performance is better in predicting class 0."
   ]
  },
  {
   "cell_type": "markdown",
   "id": "bd907866",
   "metadata": {},
   "source": [
    "4) The macro-average and weighted-average scores are quite close, indicating that there is not a significant class imbalance in the dataset."
   ]
  }
 ],
 "metadata": {
  "kernelspec": {
   "display_name": "Python 3 (ipykernel)",
   "language": "python",
   "name": "python3"
  },
  "language_info": {
   "codemirror_mode": {
    "name": "ipython",
    "version": 3
   },
   "file_extension": ".py",
   "mimetype": "text/x-python",
   "name": "python",
   "nbconvert_exporter": "python",
   "pygments_lexer": "ipython3",
   "version": "3.9.13"
  }
 },
 "nbformat": 4,
 "nbformat_minor": 5
}
